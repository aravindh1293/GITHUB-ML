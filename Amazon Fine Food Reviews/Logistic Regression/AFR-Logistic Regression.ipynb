{
 "cells": [
  {
   "cell_type": "code",
   "execution_count": 1,
   "metadata": {},
   "outputs": [],
   "source": [
    "#main libraries\n",
    "import sqlite3\n",
    "import pandas as pd\n",
    "import numpy as np\n",
    "import seaborn as sns\n",
    "import matplotlib.pyplot as plt\n",
    "import warnings\n",
    "warnings.filterwarnings(\"ignore\")"
   ]
  },
  {
   "cell_type": "code",
   "execution_count": 2,
   "metadata": {},
   "outputs": [],
   "source": [
    "#vectorizors\n",
    "from sklearn.feature_extraction.text import TfidfTransformer\n",
    "from sklearn.feature_extraction.text import TfidfVectorizer\n",
    "from sklearn.feature_extraction.text import CountVectorizer\n",
    "import gensim\n",
    "from gensim.models import Word2Vec\n",
    "from gensim.models import KeyedVectors\n",
    "import pickle"
   ]
  },
  {
   "cell_type": "code",
   "execution_count": 3,
   "metadata": {},
   "outputs": [],
   "source": [
    "#performence metrics\n",
    "from sklearn.metrics import confusion_matrix\n",
    "from sklearn import metrics\n",
    "from sklearn.metrics import accuracy_score\n",
    "from sklearn.metrics import f1_score\n",
    "from sklearn.metrics import precision_score\n",
    "from sklearn.metrics import recall_score"
   ]
  },
  {
   "cell_type": "code",
   "execution_count": 4,
   "metadata": {},
   "outputs": [],
   "source": [
    "#modules for building ML model\n",
    "from sklearn.model_selection import train_test_split\n",
    "from sklearn.linear_model import LogisticRegression\n",
    "from sklearn.model_selection import GridSearchCV\n",
    "from sklearn.model_selection import RandomizedSearchCV\n",
    "from sklearn.model_selection import TimeSeriesSplit"
   ]
  },
  {
   "cell_type": "markdown",
   "metadata": {},
   "source": [
    "## Objective\n",
    "\n",
    "1. Train, CV, Test split.\n",
    "\n",
    "2. find right 'c' (1/Lambda) using gridsearchcv(), randomsearchcv().\n",
    "\n",
    "3. Build logistic regression with featurisation techniques like BOW, TFIDF AVGW2V2 TFIDFW2V and use l1 or l2 regularizor.\n",
    "\n",
    "4. get accuracy, precision scores, confusion matrrix, recall score, f1 score.\n",
    "\n",
    "5. report what happens to sparsity when lamda increases using L1 regularizor.\n",
    "\n",
    "6. get feature importance(check multicollinearity)"
   ]
  },
  {
   "cell_type": "code",
   "execution_count": 5,
   "metadata": {},
   "outputs": [],
   "source": [
    "#connect sql database\n",
    "con = sqlite3.connect('final.sqlite')"
   ]
  },
  {
   "cell_type": "code",
   "execution_count": 6,
   "metadata": {},
   "outputs": [],
   "source": [
    "#read sql data using pandas\n",
    "data = pd.read_sql(\"SELECT * FROM REVIEWS\", con)"
   ]
  },
  {
   "cell_type": "code",
   "execution_count": 7,
   "metadata": {},
   "outputs": [],
   "source": [
    "def partition(x) :\n",
    "    if x == 'positive' :\n",
    "        return 1\n",
    "    return 0\n",
    "\n",
    "actualscore = data['Score']\n",
    "positivenegative = actualscore.map(partition)\n",
    "data['Score'] = positivenegative"
   ]
  },
  {
   "cell_type": "code",
   "execution_count": 8,
   "metadata": {},
   "outputs": [
    {
     "data": {
      "text/html": [
       "<div>\n",
       "<style scoped>\n",
       "    .dataframe tbody tr th:only-of-type {\n",
       "        vertical-align: middle;\n",
       "    }\n",
       "\n",
       "    .dataframe tbody tr th {\n",
       "        vertical-align: top;\n",
       "    }\n",
       "\n",
       "    .dataframe thead th {\n",
       "        text-align: right;\n",
       "    }\n",
       "</style>\n",
       "<table border=\"1\" class=\"dataframe\">\n",
       "  <thead>\n",
       "    <tr style=\"text-align: right;\">\n",
       "      <th></th>\n",
       "      <th>index</th>\n",
       "      <th>Id</th>\n",
       "      <th>ProductId</th>\n",
       "      <th>UserId</th>\n",
       "      <th>ProfileName</th>\n",
       "      <th>HelpfulnessNumerator</th>\n",
       "      <th>HelpfulnessDenominator</th>\n",
       "      <th>Score</th>\n",
       "      <th>Time</th>\n",
       "      <th>Summary</th>\n",
       "      <th>Text</th>\n",
       "      <th>CleanedText</th>\n",
       "    </tr>\n",
       "  </thead>\n",
       "  <tbody>\n",
       "    <tr>\n",
       "      <th>0</th>\n",
       "      <td>138706</td>\n",
       "      <td>150524</td>\n",
       "      <td>0006641040</td>\n",
       "      <td>ACITT7DI6IDDL</td>\n",
       "      <td>shari zychinski</td>\n",
       "      <td>0</td>\n",
       "      <td>0</td>\n",
       "      <td>1</td>\n",
       "      <td>939340800</td>\n",
       "      <td>EVERY book is educational</td>\n",
       "      <td>this witty little book makes my son laugh at l...</td>\n",
       "      <td>witti littl book make son laugh loud recit car...</td>\n",
       "    </tr>\n",
       "    <tr>\n",
       "      <th>1</th>\n",
       "      <td>138688</td>\n",
       "      <td>150506</td>\n",
       "      <td>0006641040</td>\n",
       "      <td>A2IW4PEEKO2R0U</td>\n",
       "      <td>Tracy</td>\n",
       "      <td>1</td>\n",
       "      <td>1</td>\n",
       "      <td>1</td>\n",
       "      <td>1194739200</td>\n",
       "      <td>Love the book, miss the hard cover version</td>\n",
       "      <td>I grew up reading these Sendak books, and watc...</td>\n",
       "      <td>grew read sendak book watch realli rosi movi i...</td>\n",
       "    </tr>\n",
       "    <tr>\n",
       "      <th>2</th>\n",
       "      <td>138689</td>\n",
       "      <td>150507</td>\n",
       "      <td>0006641040</td>\n",
       "      <td>A1S4A3IQ2MU7V4</td>\n",
       "      <td>sally sue \"sally sue\"</td>\n",
       "      <td>1</td>\n",
       "      <td>1</td>\n",
       "      <td>1</td>\n",
       "      <td>1191456000</td>\n",
       "      <td>chicken soup with rice months</td>\n",
       "      <td>This is a fun way for children to learn their ...</td>\n",
       "      <td>fun way children learn month year learn poem t...</td>\n",
       "    </tr>\n",
       "    <tr>\n",
       "      <th>3</th>\n",
       "      <td>138690</td>\n",
       "      <td>150508</td>\n",
       "      <td>0006641040</td>\n",
       "      <td>AZGXZ2UUK6X</td>\n",
       "      <td>Catherine Hallberg \"(Kate)\"</td>\n",
       "      <td>1</td>\n",
       "      <td>1</td>\n",
       "      <td>1</td>\n",
       "      <td>1076025600</td>\n",
       "      <td>a good swingy rhythm for reading aloud</td>\n",
       "      <td>This is a great little book to read aloud- it ...</td>\n",
       "      <td>great littl book read nice rhythm well good re...</td>\n",
       "    </tr>\n",
       "    <tr>\n",
       "      <th>4</th>\n",
       "      <td>138691</td>\n",
       "      <td>150509</td>\n",
       "      <td>0006641040</td>\n",
       "      <td>A3CMRKGE0P909G</td>\n",
       "      <td>Teresa</td>\n",
       "      <td>3</td>\n",
       "      <td>4</td>\n",
       "      <td>1</td>\n",
       "      <td>1018396800</td>\n",
       "      <td>A great way to learn the months</td>\n",
       "      <td>This is a book of poetry about the months of t...</td>\n",
       "      <td>book poetri month year goe month cute littl po...</td>\n",
       "    </tr>\n",
       "  </tbody>\n",
       "</table>\n",
       "</div>"
      ],
      "text/plain": [
       "    index      Id   ProductId          UserId                  ProfileName  \\\n",
       "0  138706  150524  0006641040   ACITT7DI6IDDL              shari zychinski   \n",
       "1  138688  150506  0006641040  A2IW4PEEKO2R0U                        Tracy   \n",
       "2  138689  150507  0006641040  A1S4A3IQ2MU7V4        sally sue \"sally sue\"   \n",
       "3  138690  150508  0006641040     AZGXZ2UUK6X  Catherine Hallberg \"(Kate)\"   \n",
       "4  138691  150509  0006641040  A3CMRKGE0P909G                       Teresa   \n",
       "\n",
       "   HelpfulnessNumerator  HelpfulnessDenominator  Score        Time  \\\n",
       "0                     0                       0      1   939340800   \n",
       "1                     1                       1      1  1194739200   \n",
       "2                     1                       1      1  1191456000   \n",
       "3                     1                       1      1  1076025600   \n",
       "4                     3                       4      1  1018396800   \n",
       "\n",
       "                                      Summary  \\\n",
       "0                   EVERY book is educational   \n",
       "1  Love the book, miss the hard cover version   \n",
       "2               chicken soup with rice months   \n",
       "3      a good swingy rhythm for reading aloud   \n",
       "4             A great way to learn the months   \n",
       "\n",
       "                                                Text  \\\n",
       "0  this witty little book makes my son laugh at l...   \n",
       "1  I grew up reading these Sendak books, and watc...   \n",
       "2  This is a fun way for children to learn their ...   \n",
       "3  This is a great little book to read aloud- it ...   \n",
       "4  This is a book of poetry about the months of t...   \n",
       "\n",
       "                                         CleanedText  \n",
       "0  witti littl book make son laugh loud recit car...  \n",
       "1  grew read sendak book watch realli rosi movi i...  \n",
       "2  fun way children learn month year learn poem t...  \n",
       "3  great littl book read nice rhythm well good re...  \n",
       "4  book poetri month year goe month cute littl po...  "
      ]
     },
     "execution_count": 8,
     "metadata": {},
     "output_type": "execute_result"
    }
   ],
   "source": [
    "data.head()"
   ]
  },
  {
   "cell_type": "code",
   "execution_count": 9,
   "metadata": {},
   "outputs": [
    {
     "name": "stdout",
     "output_type": "stream",
     "text": [
      "Number of positive & negative data points are \n",
      " 1    307061\n",
      "0     57110\n",
      "Name: Score, dtype: int64\n"
     ]
    },
    {
     "data": {
      "text/plain": [
       "<matplotlib.axes._subplots.AxesSubplot at 0x12eb55e7b00>"
      ]
     },
     "execution_count": 9,
     "metadata": {},
     "output_type": "execute_result"
    },
    {
     "data": {
      "image/png": "[encoded data removed]",
      "text/plain": [
       "<Figure size 432x288 with 1 Axes>"
      ]
     },
     "metadata": {},
     "output_type": "display_data"
    }
   ],
   "source": [
    "print ('Number of positive & negative data points are \\n',data['Score'].value_counts())\n",
    "data['Score'].value_counts().plot(kind='bar')"
   ]
  },
  {
   "cell_type": "code",
   "execution_count": 10,
   "metadata": {},
   "outputs": [],
   "source": [
    "#sort data based on time\n",
    "df_time_sorted = data.sort_values('Time', kind ='quicksort')"
   ]
  },
  {
   "cell_type": "code",
   "execution_count": 11,
   "metadata": {},
   "outputs": [
    {
     "data": {
      "text/html": [
       "<div>\n",
       "<style scoped>\n",
       "    .dataframe tbody tr th:only-of-type {\n",
       "        vertical-align: middle;\n",
       "    }\n",
       "\n",
       "    .dataframe tbody tr th {\n",
       "        vertical-align: top;\n",
       "    }\n",
       "\n",
       "    .dataframe thead th {\n",
       "        text-align: right;\n",
       "    }\n",
       "</style>\n",
       "<table border=\"1\" class=\"dataframe\">\n",
       "  <thead>\n",
       "    <tr style=\"text-align: right;\">\n",
       "      <th></th>\n",
       "      <th>index</th>\n",
       "      <th>Id</th>\n",
       "      <th>ProductId</th>\n",
       "      <th>UserId</th>\n",
       "      <th>ProfileName</th>\n",
       "      <th>HelpfulnessNumerator</th>\n",
       "      <th>HelpfulnessDenominator</th>\n",
       "      <th>Score</th>\n",
       "      <th>Time</th>\n",
       "      <th>Summary</th>\n",
       "      <th>Text</th>\n",
       "      <th>CleanedText</th>\n",
       "    </tr>\n",
       "  </thead>\n",
       "  <tbody>\n",
       "    <tr>\n",
       "      <th>0</th>\n",
       "      <td>138706</td>\n",
       "      <td>150524</td>\n",
       "      <td>0006641040</td>\n",
       "      <td>ACITT7DI6IDDL</td>\n",
       "      <td>shari zychinski</td>\n",
       "      <td>0</td>\n",
       "      <td>0</td>\n",
       "      <td>1</td>\n",
       "      <td>939340800</td>\n",
       "      <td>EVERY book is educational</td>\n",
       "      <td>this witty little book makes my son laugh at l...</td>\n",
       "      <td>witti littl book make son laugh loud recit car...</td>\n",
       "    </tr>\n",
       "    <tr>\n",
       "      <th>30</th>\n",
       "      <td>138683</td>\n",
       "      <td>150501</td>\n",
       "      <td>0006641040</td>\n",
       "      <td>AJ46FKXOVC7NR</td>\n",
       "      <td>Nicholas A Mesiano</td>\n",
       "      <td>2</td>\n",
       "      <td>2</td>\n",
       "      <td>1</td>\n",
       "      <td>940809600</td>\n",
       "      <td>This whole series is great way to spend time w...</td>\n",
       "      <td>I can remember seeing the show when it aired o...</td>\n",
       "      <td>rememb see show air televis year ago child sis...</td>\n",
       "    </tr>\n",
       "    <tr>\n",
       "      <th>424</th>\n",
       "      <td>417839</td>\n",
       "      <td>451856</td>\n",
       "      <td>B00004CXX9</td>\n",
       "      <td>AIUWLEQ1ADEG5</td>\n",
       "      <td>Elizabeth Medina</td>\n",
       "      <td>0</td>\n",
       "      <td>0</td>\n",
       "      <td>1</td>\n",
       "      <td>944092800</td>\n",
       "      <td>Entertainingl Funny!</td>\n",
       "      <td>Beetlejuice is a well written movie ..... ever...</td>\n",
       "      <td>beetlejuic well written movi everyth excel act...</td>\n",
       "    </tr>\n",
       "    <tr>\n",
       "      <th>330</th>\n",
       "      <td>346055</td>\n",
       "      <td>374359</td>\n",
       "      <td>B00004CI84</td>\n",
       "      <td>A344SMIA5JECGM</td>\n",
       "      <td>Vincent P. Ross</td>\n",
       "      <td>1</td>\n",
       "      <td>2</td>\n",
       "      <td>1</td>\n",
       "      <td>944438400</td>\n",
       "      <td>A modern day fairy tale</td>\n",
       "      <td>A twist of rumplestiskin captured on film, sta...</td>\n",
       "      <td>twist rumplestiskin captur film star michael k...</td>\n",
       "    </tr>\n",
       "    <tr>\n",
       "      <th>423</th>\n",
       "      <td>417838</td>\n",
       "      <td>451855</td>\n",
       "      <td>B00004CXX9</td>\n",
       "      <td>AJH6LUC1UT1ON</td>\n",
       "      <td>The Phantom of the Opera</td>\n",
       "      <td>0</td>\n",
       "      <td>0</td>\n",
       "      <td>1</td>\n",
       "      <td>946857600</td>\n",
       "      <td>FANTASTIC!</td>\n",
       "      <td>Beetlejuice is an excellent and funny movie. K...</td>\n",
       "      <td>beetlejuic excel funni movi keaton hilari wack...</td>\n",
       "    </tr>\n",
       "  </tbody>\n",
       "</table>\n",
       "</div>"
      ],
      "text/plain": [
       "      index      Id   ProductId          UserId               ProfileName  \\\n",
       "0    138706  150524  0006641040   ACITT7DI6IDDL           shari zychinski   \n",
       "30   138683  150501  0006641040   AJ46FKXOVC7NR        Nicholas A Mesiano   \n",
       "424  417839  451856  B00004CXX9   AIUWLEQ1ADEG5          Elizabeth Medina   \n",
       "330  346055  374359  B00004CI84  A344SMIA5JECGM           Vincent P. Ross   \n",
       "423  417838  451855  B00004CXX9   AJH6LUC1UT1ON  The Phantom of the Opera   \n",
       "\n",
       "     HelpfulnessNumerator  HelpfulnessDenominator  Score       Time  \\\n",
       "0                       0                       0      1  939340800   \n",
       "30                      2                       2      1  940809600   \n",
       "424                     0                       0      1  944092800   \n",
       "330                     1                       2      1  944438400   \n",
       "423                     0                       0      1  946857600   \n",
       "\n",
       "                                               Summary  \\\n",
       "0                            EVERY book is educational   \n",
       "30   This whole series is great way to spend time w...   \n",
       "424                               Entertainingl Funny!   \n",
       "330                            A modern day fairy tale   \n",
       "423                                         FANTASTIC!   \n",
       "\n",
       "                                                  Text  \\\n",
       "0    this witty little book makes my son laugh at l...   \n",
       "30   I can remember seeing the show when it aired o...   \n",
       "424  Beetlejuice is a well written movie ..... ever...   \n",
       "330  A twist of rumplestiskin captured on film, sta...   \n",
       "423  Beetlejuice is an excellent and funny movie. K...   \n",
       "\n",
       "                                           CleanedText  \n",
       "0    witti littl book make son laugh loud recit car...  \n",
       "30   rememb see show air televis year ago child sis...  \n",
       "424  beetlejuic well written movi everyth excel act...  \n",
       "330  twist rumplestiskin captur film star michael k...  \n",
       "423  beetlejuic excel funni movi keaton hilari wack...  "
      ]
     },
     "execution_count": 11,
     "metadata": {},
     "output_type": "execute_result"
    }
   ],
   "source": [
    "df_time_sorted.head()"
   ]
  },
  {
   "cell_type": "markdown",
   "metadata": {},
   "source": [
    "The important piece of information from dataset for building ML models are text reviews and their Scores if they are positive or negative so lets seperate only those two columns into a seperate dataframe using pandas"
   ]
  },
  {
   "cell_type": "code",
   "execution_count": 12,
   "metadata": {},
   "outputs": [
    {
     "data": {
      "text/html": [
       "<div>\n",
       "<style scoped>\n",
       "    .dataframe tbody tr th:only-of-type {\n",
       "        vertical-align: middle;\n",
       "    }\n",
       "\n",
       "    .dataframe tbody tr th {\n",
       "        vertical-align: top;\n",
       "    }\n",
       "\n",
       "    .dataframe thead th {\n",
       "        text-align: right;\n",
       "    }\n",
       "</style>\n",
       "<table border=\"1\" class=\"dataframe\">\n",
       "  <thead>\n",
       "    <tr style=\"text-align: right;\">\n",
       "      <th></th>\n",
       "      <th>CleanedText</th>\n",
       "      <th>Score</th>\n",
       "    </tr>\n",
       "  </thead>\n",
       "  <tbody>\n",
       "    <tr>\n",
       "      <th>0</th>\n",
       "      <td>witti littl book make son laugh loud recit car...</td>\n",
       "      <td>1</td>\n",
       "    </tr>\n",
       "    <tr>\n",
       "      <th>1</th>\n",
       "      <td>grew read sendak book watch realli rosi movi i...</td>\n",
       "      <td>1</td>\n",
       "    </tr>\n",
       "    <tr>\n",
       "      <th>2</th>\n",
       "      <td>fun way children learn month year learn poem t...</td>\n",
       "      <td>1</td>\n",
       "    </tr>\n",
       "    <tr>\n",
       "      <th>3</th>\n",
       "      <td>great littl book read nice rhythm well good re...</td>\n",
       "      <td>1</td>\n",
       "    </tr>\n",
       "    <tr>\n",
       "      <th>4</th>\n",
       "      <td>book poetri month year goe month cute littl po...</td>\n",
       "      <td>1</td>\n",
       "    </tr>\n",
       "  </tbody>\n",
       "</table>\n",
       "</div>"
      ],
      "text/plain": [
       "                                         CleanedText  Score\n",
       "0  witti littl book make son laugh loud recit car...      1\n",
       "1  grew read sendak book watch realli rosi movi i...      1\n",
       "2  fun way children learn month year learn poem t...      1\n",
       "3  great littl book read nice rhythm well good re...      1\n",
       "4  book poetri month year goe month cute littl po...      1"
      ]
     },
     "execution_count": 12,
     "metadata": {},
     "output_type": "execute_result"
    }
   ],
   "source": [
    "df = pd.DataFrame(data, columns=['CleanedText', 'Score'])\n",
    "df.head()"
   ]
  },
  {
   "cell_type": "code",
   "execution_count": 13,
   "metadata": {},
   "outputs": [
    {
     "data": {
      "text/plain": [
       "(364171, 2)"
      ]
     },
     "execution_count": 13,
     "metadata": {},
     "output_type": "execute_result"
    }
   ],
   "source": [
    "#lets check the total dataset values\n",
    "df.shape"
   ]
  },
  {
   "cell_type": "code",
   "execution_count": 14,
   "metadata": {},
   "outputs": [
    {
     "name": "stdout",
     "output_type": "stream",
     "text": [
      "Number of +ve & -ve datapoints \n",
      " 1    85197\n",
      "0    14803\n",
      "Name: Score, dtype: int64\n"
     ]
    },
    {
     "data": {
      "text/plain": [
       "<matplotlib.axes._subplots.AxesSubplot at 0x12ebd1e6390>"
      ]
     },
     "execution_count": 14,
     "metadata": {},
     "output_type": "execute_result"
    },
    {
     "data": {
      "image/png": "[encoded data removed]",
      "text/plain": [
       "<Figure size 432x288 with 1 Axes>"
      ]
     },
     "metadata": {},
     "output_type": "display_data"
    }
   ],
   "source": [
    "df_sample = df.head(100000)\n",
    "print ('Number of +ve & -ve datapoints \\n' ,df_sample['Score'].value_counts())\n",
    "df_sample['Score'].value_counts().plot(kind='bar')"
   ]
  },
  {
   "cell_type": "code",
   "execution_count": 15,
   "metadata": {},
   "outputs": [
    {
     "name": "stdout",
     "output_type": "stream",
     "text": [
      "(100000,)\n",
      "(100000,)\n"
     ]
    }
   ],
   "source": [
    "X = df_sample['CleanedText']\n",
    "y = df_sample['Score']\n",
    "print (X.shape)\n",
    "print (y.shape)"
   ]
  },
  {
   "cell_type": "code",
   "execution_count": 16,
   "metadata": {},
   "outputs": [
    {
     "name": "stdout",
     "output_type": "stream",
     "text": [
      "X_train shape : (70000,)\n",
      "y_train shape : (70000,)\n",
      "X_test shape : (30000,)\n",
      "y_test shape : (30000,)\n"
     ]
    }
   ],
   "source": [
    "#test-train-split\n",
    "X_train, X_test, y_train, y_test = train_test_split(X, y, test_size=0.3,shuffle=False)\n",
    "print('X_train shape :' ,X_train.shape)\n",
    "print('y_train shape :' ,y_train.shape)\n",
    "print('X_test shape :' ,X_test.shape)\n",
    "print('y_test shape :' ,y_test.shape)"
   ]
  },
  {
   "cell_type": "markdown",
   "metadata": {},
   "source": [
    "### check if rows are not shuffled since its time series data"
   ]
  },
  {
   "cell_type": "code",
   "execution_count": 17,
   "metadata": {},
   "outputs": [
    {
     "data": {
      "text/plain": [
       "0    witti littl book make son laugh loud recit car...\n",
       "1    grew read sendak book watch realli rosi movi i...\n",
       "2    fun way children learn month year learn poem t...\n",
       "3    great littl book read nice rhythm well good re...\n",
       "4    book poetri month year goe month cute littl po...\n",
       "Name: CleanedText, dtype: object"
      ]
     },
     "execution_count": 17,
     "metadata": {},
     "output_type": "execute_result"
    }
   ],
   "source": [
    "X_train.head()"
   ]
  },
  {
   "cell_type": "code",
   "execution_count": 18,
   "metadata": {},
   "outputs": [
    {
     "data": {
      "text/plain": [
       "70000    introduc madhava agav sister back jan diabet r...\n",
       "70001    love nectar wish amazon would quit rais price ...\n",
       "70002    purchas particular item twice price local heal...\n",
       "70003    madhava agav nectar low calori natur kosher sw...\n",
       "70004    bought replac honey tendenc crystal winter mon...\n",
       "Name: CleanedText, dtype: object"
      ]
     },
     "execution_count": 18,
     "metadata": {},
     "output_type": "execute_result"
    }
   ],
   "source": [
    "X_test.head()"
   ]
  },
  {
   "cell_type": "code",
   "execution_count": 19,
   "metadata": {},
   "outputs": [
    {
     "data": {
      "text/plain": [
       "69995    madhava agav nectar amber bottl pack use agav ...\n",
       "69996    forget aspartam artifici sweetner agav nectar ...\n",
       "69997    ferment agav nectar realli refresh drink twist...\n",
       "69998    love stuff liquid dissolv easier low gci proba...\n",
       "69999    start eat healthier one ago biggest step chang...\n",
       "Name: CleanedText, dtype: object"
      ]
     },
     "execution_count": 19,
     "metadata": {},
     "output_type": "execute_result"
    }
   ],
   "source": [
    "X_train.tail()"
   ]
  },
  {
   "cell_type": "code",
   "execution_count": 20,
   "metadata": {},
   "outputs": [
    {
     "data": {
      "text/plain": [
       "99995    delici sugar pretti light brown color delici a...\n",
       "99996    sugar raw flavor profil much better white suga...\n",
       "99997    use buy sugar year eat much sugar still sugar ...\n",
       "99998    product exact advertis save least half retail ...\n",
       "99999    love sugar also get muscavado sugar great use ...\n",
       "Name: CleanedText, dtype: object"
      ]
     },
     "execution_count": 20,
     "metadata": {},
     "output_type": "execute_result"
    }
   ],
   "source": [
    "X_test.tail()"
   ]
  },
  {
   "cell_type": "markdown",
   "metadata": {},
   "source": [
    "# Functions to find Hyperparameter & Use Logistic Regression"
   ]
  },
  {
   "cell_type": "code",
   "execution_count": 21,
   "metadata": {},
   "outputs": [],
   "source": [
    "#c=1/lambda, lambda = 0.001,0.002,0.01,0.02,0.1,0.2,1,2,10,20,100,200,1000,2000,10000. \n",
    "def log_reg_best_params (X_train, y_train) :\n",
    "    #c=1/lambda, lambda = 0.001,0.002,0.01,0.02,0.1,0.2,1,2,10,20,100,200,1000,2000,10000. \n",
    "    clf = LogisticRegression(n_jobs=-1)\n",
    "    cv= TimeSeriesSplit(n_splits=10)\n",
    "    param_grid = {'C':[1000,500,100,50,10,5,1,0.5,0.1,0.05,0.01,0.005,0.001,0.0005,0.0001], \n",
    "                  'penalty':['l1', 'l2']}\n",
    "    grid_cv = GridSearchCV(clf, param_grid, cv=cv, verbose=1, n_jobs=-1)\n",
    "    grid_cv.fit(X_train,y_train)\n",
    "    print(\"Best HyperParameter: \",grid_cv.best_params_)\n",
    "    print(\"Best Accuracy: \", (grid_cv.best_score_*100))"
   ]
  },
  {
   "cell_type": "code",
   "execution_count": 22,
   "metadata": {},
   "outputs": [],
   "source": [
    "def log_reg(C, penalty, X_train, y_train, X_test, y_test) :\n",
    "    clf = LogisticRegression(C=C, penalty=penalty, n_jobs=-1)\n",
    "    clf.fit(X_train, y_train)\n",
    "    y_pred=clf.predict(X_test)\n",
    "    print('accuracy_score =', accuracy_score(y_test, y_pred))\n",
    "    print('precision_score =', precision_score(y_test, y_pred))\n",
    "    print('recall_score =', recall_score(y_test, y_pred))\n",
    "    cm = confusion_matrix(y_test, y_pred)\n",
    "    sns.heatmap(cm, annot=True, fmt=\"d\")\n",
    "    return y_pred"
   ]
  },
  {
   "cell_type": "code",
   "execution_count": 23,
   "metadata": {},
   "outputs": [],
   "source": [
    "#c=1/lambda, lambda = 0.001,0.002,0.01,0.02,0.1,0.2,1,2,10,20,100,200,1000,2000,10000. \n",
    "def log_reg_best_params_rand (X_train, y_train) :\n",
    "    #c=1/lambda, lambda = 0.001,0.002,0.01,0.02,0.1,0.2,1,2,10,20,100,200,1000,2000,10000. \n",
    "    clf = LogisticRegression(n_jobs=-1)\n",
    "    cv= TimeSeriesSplit(n_splits=10)\n",
    "    param_grid = {'C':[1000,500,100,50,10,5,1,0.5,0.1,0.05,0.01,0.005,0.001,0.0005,0.0001], \n",
    "                  'penalty':['l1', 'l2']}\n",
    "    rand_cv = RandomizedSearchCV(clf, param_grid, cv=cv, verbose=1, n_jobs=-1)\n",
    "    rand_cv.fit(X_train,y_train)\n",
    "    print(\"Best HyperParameter: \",rand_cv.best_params_)\n",
    "    print(\"Best Accuracy: \", (rand_cv.best_score_*100))"
   ]
  },
  {
   "cell_type": "code",
   "execution_count": 24,
   "metadata": {},
   "outputs": [],
   "source": [
    "def log_reg_rand(C, penalty, X_train, y_train, X_test, y_test) :\n",
    "    clf = LogisticRegression(C=C, penalty=penalty, n_jobs=-1)\n",
    "    clf.fit(X_train, y_train)\n",
    "    y_pred=clf.predict(X_test)\n",
    "    print('accuracy_score =', accuracy_score(y_test, y_pred))\n",
    "    print('precision_score =', precision_score(y_test, y_pred))\n",
    "    print('recall_score =', recall_score(y_test, y_pred))\n",
    "    cm = confusion_matrix(y_test, y_pred)\n",
    "    sns.heatmap(cm, annot=True, fmt=\"d\")\n",
    "    return y_pred"
   ]
  },
  {
   "cell_type": "markdown",
   "metadata": {},
   "source": [
    "# BAG of WORDS"
   ]
  },
  {
   "cell_type": "code",
   "execution_count": 25,
   "metadata": {},
   "outputs": [],
   "source": [
    "vect = CountVectorizer()"
   ]
  },
  {
   "cell_type": "code",
   "execution_count": 26,
   "metadata": {},
   "outputs": [
    {
     "data": {
      "text/plain": [
       "<70000x32149 sparse matrix of type '<class 'numpy.float64'>'\n",
       "\twith 2162199 stored elements in Compressed Sparse Row format>"
      ]
     },
     "execution_count": 26,
     "metadata": {},
     "output_type": "execute_result"
    }
   ],
   "source": [
    "from sklearn import preprocessing\n",
    "bow_X_train = vect.fit_transform(X_train)\n",
    "bow_X_train = preprocessing.normalize(bow_X_train)\n",
    "bow_X_train"
   ]
  },
  {
   "cell_type": "code",
   "execution_count": 27,
   "metadata": {},
   "outputs": [
    {
     "data": {
      "text/plain": [
       "<30000x32149 sparse matrix of type '<class 'numpy.float64'>'\n",
       "\twith 880827 stored elements in Compressed Sparse Row format>"
      ]
     },
     "execution_count": 27,
     "metadata": {},
     "output_type": "execute_result"
    }
   ],
   "source": [
    "bow_X_test = vect.transform(X_test)\n",
    "bow_X_test = preprocessing.normalize(bow_X_test)\n",
    "bow_X_test"
   ]
  },
  {
   "cell_type": "code",
   "execution_count": 28,
   "metadata": {},
   "outputs": [
    {
     "name": "stdout",
     "output_type": "stream",
     "text": [
      "Fitting 10 folds for each of 30 candidates, totalling 300 fits\n"
     ]
    },
    {
     "name": "stderr",
     "output_type": "stream",
     "text": [
      "[Parallel(n_jobs=-1)]: Done  26 tasks      | elapsed:  1.1min\n",
      "[Parallel(n_jobs=-1)]: Done 176 tasks      | elapsed:  2.6min\n",
      "[Parallel(n_jobs=-1)]: Done 300 out of 300 | elapsed:  2.8min finished\n"
     ]
    },
    {
     "name": "stdout",
     "output_type": "stream",
     "text": [
      "Best HyperParameter:  {'C': 5, 'penalty': 'l2'}\n",
      "Best Accuracy:  91.42857142857143\n"
     ]
    }
   ],
   "source": [
    "log_reg_best_params(bow_X_train, y_train)"
   ]
  },
  {
   "cell_type": "code",
   "execution_count": 29,
   "metadata": {},
   "outputs": [
    {
     "name": "stdout",
     "output_type": "stream",
     "text": [
      "accuracy_score = 0.9231666666666667\n",
      "precision_score = 0.9378435358783224\n",
      "recall_score = 0.974418149814199\n",
      "Wall time: 2.25 s\n"
     ]
    },
    {
     "data": {
      "text/plain": [
       "array([1, 1, 1, ..., 0, 1, 1], dtype=int64)"
      ]
     },
     "execution_count": 29,
     "metadata": {},
     "output_type": "execute_result"
    },
    {
     "data": {
      "image/png": "[encoded data removed]",
      "text/plain": [
       "<Figure size 432x288 with 2 Axes>"
      ]
     },
     "metadata": {},
     "output_type": "display_data"
    }
   ],
   "source": [
    "%time log_reg(5, 'l2', bow_X_train, y_train, bow_X_test, y_test)"
   ]
  },
  {
   "cell_type": "code",
   "execution_count": 30,
   "metadata": {},
   "outputs": [
    {
     "name": "stdout",
     "output_type": "stream",
     "text": [
      "Fitting 10 folds for each of 10 candidates, totalling 100 fits\n"
     ]
    },
    {
     "name": "stderr",
     "output_type": "stream",
     "text": [
      "[Parallel(n_jobs=-1)]: Done  26 tasks      | elapsed:   43.1s\n",
      "[Parallel(n_jobs=-1)]: Done 100 out of 100 | elapsed:  1.7min finished\n"
     ]
    },
    {
     "name": "stdout",
     "output_type": "stream",
     "text": [
      "Best HyperParameter:  {'penalty': 'l1', 'C': 1}\n",
      "Best Accuracy:  91.05296243910105\n"
     ]
    }
   ],
   "source": [
    "log_reg_best_params_rand(bow_X_train, y_train)"
   ]
  },
  {
   "cell_type": "code",
   "execution_count": 31,
   "metadata": {
    "scrolled": false
   },
   "outputs": [
    {
     "name": "stdout",
     "output_type": "stream",
     "text": [
      "accuracy_score = 0.9206\n",
      "precision_score = 0.9333433025533665\n",
      "recall_score = 0.9765695286524545\n"
     ]
    },
    {
     "data": {
      "text/plain": [
       "array([1, 1, 1, ..., 1, 1, 1], dtype=int64)"
      ]
     },
     "execution_count": 31,
     "metadata": {},
     "output_type": "execute_result"
    },
    {
     "data": {
      "image/png": "[encoded data removed]",
      "text/plain": [
       "<Figure size 432x288 with 2 Axes>"
      ]
     },
     "metadata": {},
     "output_type": "display_data"
    }
   ],
   "source": [
    "log_reg_rand(1,'l1', bow_X_train, y_train, bow_X_test, y_test)"
   ]
  },
  {
   "cell_type": "markdown",
   "metadata": {},
   "source": [
    "### Most Important Features BOW"
   ]
  },
  {
   "cell_type": "code",
   "execution_count": 48,
   "metadata": {},
   "outputs": [],
   "source": [
    "clf = LogisticRegression(C=5, penalty='l2')\n",
    "clf.fit(bow_X_train, y_train)\n",
    "y_pred=clf.predict(bow_X_test)\n",
    "w = clf.coef_ #get weights"
   ]
  },
  {
   "cell_type": "code",
   "execution_count": 49,
   "metadata": {},
   "outputs": [
    {
     "name": "stdout",
     "output_type": "stream",
     "text": [
      "\t\t\tNegative\t\t\t\t\t\tPositive\n",
      "________________________________________________________________________________________________\n",
      "\t-10.8883\tworst          \t\t\t\t8.3558\tdelici         \n",
      "\t-9.0912\taw             \t\t\t\t7.9516\texcel          \n",
      "\t-8.7896\tterribl        \t\t\t\t7.4456\tbest           \n",
      "\t-8.2298\tunfortun       \t\t\t\t7.3381\tperfect        \n",
      "\t-8.2175\tdisappoint     \t\t\t\t7.3207\taddict         \n",
      "\t-8.1568\thorribl        \t\t\t\t7.1499\tgreat          \n",
      "\t-7.5653\treturn         \t\t\t\t6.1712\tawesom         \n",
      "\t-7.2720\tthrew          \t\t\t\t5.7523\tamaz           \n",
      "\t-6.7309\twors           \t\t\t\t5.6065\tlove           \n",
      "\t-6.2133\tweak           \t\t\t\t5.5125\tfantast        \n",
      "\t-6.2112\tpoor           \t\t\t\t5.4617\tsmooth         \n",
      "\t-6.2098\trefund         \t\t\t\t5.4452\twonder         \n",
      "\t-6.1006\tdisgust        \t\t\t\t5.4398\tsatisfi        \n",
      "\t-6.0980\tcancel         \t\t\t\t5.3226\tfavorit        \n",
      "\t-6.0715\tmoney          \t\t\t\t5.2587\tbeat           \n",
      "\t-5.5979\ttasteless      \t\t\t\t5.1586\thook           \n",
      "\t-5.5589\tstale          \t\t\t\t5.0264\thit            \n",
      "\t-5.5399\tbland          \t\t\t\t4.6959\tnice           \n",
      "\t-5.3023\tlack           \t\t\t\t4.6386\tglad           \n",
      "\t-5.1666\tvomit          \t\t\t\t4.6243\tdelight        \n",
      "\t-5.1101\tmess           \t\t\t\t4.5357\tworri          \n",
      "\t-4.9157\tsad            \t\t\t\t4.5340\tyummi          \n",
      "\t-4.8549\tbare           \t\t\t\t4.5079\teasier         \n",
      "\t-4.8440\tsorri          \t\t\t\t4.3902\tuniqu          \n",
      "\t-4.8240\tconcept        \t\t\t\t4.3679\thappi          \n"
     ]
    }
   ],
   "source": [
    "bow_1 = CountVectorizer()\n",
    "bow_2 = bow_1.fit_transform(X_train.values)\n",
    "clf = LogisticRegression(n_jobs=-1)\n",
    "#clf = LogisticRegression('C'=5, penalty='l2', n_jobs=-1)\n",
    "def show_most_informative_features(vectorizer, clf, n=25):\n",
    "    feature_names = vectorizer.get_feature_names()\n",
    "    coefs_with_fns = sorted(zip(w[0], feature_names))\n",
    "    top = zip(coefs_with_fns[:n], coefs_with_fns[:-(n + 1):-1])\n",
    "    print(\"\\t\\t\\tNegative\\t\\t\\t\\t\\t\\tPositive\")\n",
    "    print(\"________________________________________________________________________________________________\")\n",
    "    for (coef_1, fn_1), (coef_2, fn_2) in top:\n",
    "        print(\"\\t%.4f\\t%-15s\\t\\t\\t\\t%.4f\\t%-15s\" % (coef_1, fn_1, coef_2, fn_2))\n",
    "        \n",
    "show_most_informative_features(bow_1,clf)\n",
    "#Code Reference:https://stackoverflow.com/questions/11116697/how-to-get-most-informative-features-for-scikit-learn-classifiers"
   ]
  },
  {
   "cell_type": "markdown",
   "metadata": {},
   "source": [
    "# TFIDF"
   ]
  },
  {
   "cell_type": "code",
   "execution_count": 33,
   "metadata": {},
   "outputs": [],
   "source": [
    "vect = TfidfVectorizer()"
   ]
  },
  {
   "cell_type": "code",
   "execution_count": 34,
   "metadata": {},
   "outputs": [
    {
     "data": {
      "text/plain": [
       "<70000x32149 sparse matrix of type '<class 'numpy.float64'>'\n",
       "\twith 2162199 stored elements in Compressed Sparse Row format>"
      ]
     },
     "execution_count": 34,
     "metadata": {},
     "output_type": "execute_result"
    }
   ],
   "source": [
    "from sklearn import preprocessing\n",
    "tfidf_X_train = vect.fit_transform(X_train)\n",
    "tfidf_X_train = preprocessing.normalize(tfidf_X_train)\n",
    "tfidf_X_train"
   ]
  },
  {
   "cell_type": "code",
   "execution_count": 35,
   "metadata": {},
   "outputs": [
    {
     "data": {
      "text/plain": [
       "<30000x32149 sparse matrix of type '<class 'numpy.float64'>'\n",
       "\twith 880827 stored elements in Compressed Sparse Row format>"
      ]
     },
     "execution_count": 35,
     "metadata": {},
     "output_type": "execute_result"
    }
   ],
   "source": [
    "tfidf_X_test = vect.transform(X_test)\n",
    "tfidf_X_test = preprocessing.normalize(tfidf_X_test)\n",
    "tfidf_X_test"
   ]
  },
  {
   "cell_type": "code",
   "execution_count": 36,
   "metadata": {},
   "outputs": [
    {
     "name": "stdout",
     "output_type": "stream",
     "text": [
      "Fitting 10 folds for each of 30 candidates, totalling 300 fits\n"
     ]
    },
    {
     "name": "stderr",
     "output_type": "stream",
     "text": [
      "[Parallel(n_jobs=-1)]: Done  26 tasks      | elapsed:  1.1min\n",
      "[Parallel(n_jobs=-1)]: Done 176 tasks      | elapsed:  2.7min\n",
      "[Parallel(n_jobs=-1)]: Done 300 out of 300 | elapsed:  2.9min finished\n"
     ]
    },
    {
     "name": "stdout",
     "output_type": "stream",
     "text": [
      "Best HyperParameter:  {'C': 5, 'penalty': 'l2'}\n",
      "Best Accuracy:  91.4018544711614\n"
     ]
    }
   ],
   "source": [
    "log_reg_best_params(tfidf_X_train, y_train)"
   ]
  },
  {
   "cell_type": "code",
   "execution_count": 37,
   "metadata": {},
   "outputs": [
    {
     "name": "stdout",
     "output_type": "stream",
     "text": [
      "accuracy_score = 0.9222333333333333\n",
      "precision_score = 0.9380751244531603\n",
      "recall_score = 0.9729708585957364\n"
     ]
    },
    {
     "data": {
      "text/plain": [
       "array([1, 1, 1, ..., 0, 1, 1], dtype=int64)"
      ]
     },
     "execution_count": 37,
     "metadata": {},
     "output_type": "execute_result"
    },
    {
     "data": {
      "image/png": "[encoded data removed]",
      "text/plain": [
       "<Figure size 432x288 with 2 Axes>"
      ]
     },
     "metadata": {},
     "output_type": "display_data"
    }
   ],
   "source": [
    "log_reg(5, 'l2', tfidf_X_train, y_train, tfidf_X_test, y_test)"
   ]
  },
  {
   "cell_type": "code",
   "execution_count": 38,
   "metadata": {},
   "outputs": [
    {
     "name": "stdout",
     "output_type": "stream",
     "text": [
      "Fitting 10 folds for each of 10 candidates, totalling 100 fits\n"
     ]
    },
    {
     "name": "stderr",
     "output_type": "stream",
     "text": [
      "[Parallel(n_jobs=-1)]: Done  26 tasks      | elapsed:   12.0s\n",
      "[Parallel(n_jobs=-1)]: Done 100 out of 100 | elapsed:   54.1s finished\n"
     ]
    },
    {
     "name": "stdout",
     "output_type": "stream",
     "text": [
      "Best HyperParameter:  {'penalty': 'l1', 'C': 10}\n",
      "Best Accuracy:  90.54691183404054\n"
     ]
    }
   ],
   "source": [
    "log_reg_best_params_rand(tfidf_X_train, y_train)"
   ]
  },
  {
   "cell_type": "code",
   "execution_count": 39,
   "metadata": {
    "scrolled": false
   },
   "outputs": [
    {
     "name": "stdout",
     "output_type": "stream",
     "text": [
      "accuracy_score = 0.9123666666666667\n",
      "precision_score = 0.9402303262955855\n",
      "recall_score = 0.9580676706434579\n"
     ]
    },
    {
     "data": {
      "text/plain": [
       "array([1, 1, 1, ..., 0, 1, 1], dtype=int64)"
      ]
     },
     "execution_count": 39,
     "metadata": {},
     "output_type": "execute_result"
    },
    {
     "data": {
      "image/png": "[encoded data removed]",
      "text/plain": [
       "<Figure size 432x288 with 2 Axes>"
      ]
     },
     "metadata": {},
     "output_type": "display_data"
    }
   ],
   "source": [
    "log_reg_rand(10,'l1', tfidf_X_train, y_train, tfidf_X_test, y_test)"
   ]
  },
  {
   "cell_type": "markdown",
   "metadata": {},
   "source": [
    "### TFIDF most important features"
   ]
  },
  {
   "cell_type": "code",
   "execution_count": 51,
   "metadata": {},
   "outputs": [],
   "source": [
    "clf = LogisticRegression(C=5, penalty='l2')\n",
    "clf.fit(tfidf_X_train, y_train)\n",
    "y_pred=clf.predict(tfidf_X_test)\n",
    "w = clf.coef_ #get weights"
   ]
  },
  {
   "cell_type": "code",
   "execution_count": 52,
   "metadata": {},
   "outputs": [
    {
     "name": "stdout",
     "output_type": "stream",
     "text": [
      "\t\t\tNegative\t\t\t\t\t\tPositive\n",
      "________________________________________________________________________________________________\n",
      "\t-9.7700\tworst          \t\t\t\t12.9037\tgreat          \n",
      "\t-8.8200\tdisappoint     \t\t\t\t10.4799\tlove           \n",
      "\t-8.0956\tterribl        \t\t\t\t10.4246\tbest           \n",
      "\t-8.0913\taw             \t\t\t\t10.1971\tdelici         \n",
      "\t-7.6322\tunfortun       \t\t\t\t8.7546\tperfect        \n",
      "\t-7.5516\thorribl        \t\t\t\t8.6312\texcel          \n",
      "\t-7.3554\treturn         \t\t\t\t6.9972\taddict         \n",
      "\t-6.5018\tthrew          \t\t\t\t6.5298\twonder         \n",
      "\t-6.2286\twors           \t\t\t\t6.4494\tfavorit        \n",
      "\t-6.1854\tmoney          \t\t\t\t5.9668\tgood           \n",
      "\t-5.8390\tcancel         \t\t\t\t5.9133\tamaz           \n",
      "\t-5.8279\tpoor           \t\t\t\t5.7594\tawesom         \n",
      "\t-5.7092\trefund         \t\t\t\t5.5030\tnice           \n",
      "\t-5.3804\tdisgust        \t\t\t\t5.4475\tfantast        \n",
      "\t-5.3183\tweak           \t\t\t\t5.1223\thook           \n",
      "\t-4.9975\tbland          \t\t\t\t5.1192\tsatisfi        \n",
      "\t-4.9177\tlack           \t\t\t\t5.1091\tbeat           \n",
      "\t-4.8338\ttasteless      \t\t\t\t5.0436\tsmooth         \n",
      "\t-4.6710\tvomit          \t\t\t\t4.9358\thit            \n",
      "\t-4.6214\tstale          \t\t\t\t4.8897\tfind           \n",
      "\t-4.5550\tunpleas        \t\t\t\t4.8709\tdefinit        \n",
      "\t-4.5338\tconcept        \t\t\t\t4.8645\tkeep           \n",
      "\t-4.3705\tsorri          \t\t\t\t4.7808\talway          \n",
      "\t-4.3510\tmislead        \t\t\t\t4.7724\teasi           \n",
      "\t-4.3118\tdidnt          \t\t\t\t4.6995\thappi          \n"
     ]
    }
   ],
   "source": [
    "tfidf_1 = TfidfVectorizer()\n",
    "tfidf_2 = tfidf_1.fit_transform(X_train.values)\n",
    "def show_most_informative_features(vectorizer, clf, n=25):\n",
    "    feature_names = vectorizer.get_feature_names()\n",
    "    coefs_with_fns = sorted(zip(w[0], feature_names))\n",
    "    top = zip(coefs_with_fns[:n], coefs_with_fns[:-(n + 1):-1])\n",
    "    print(\"\\t\\t\\tNegative\\t\\t\\t\\t\\t\\tPositive\")\n",
    "    print(\"________________________________________________________________________________________________\")\n",
    "    for (coef_1, fn_1), (coef_2, fn_2) in top:\n",
    "        print(\"\\t%.4f\\t%-15s\\t\\t\\t\\t%.4f\\t%-15s\" % (coef_1, fn_1, coef_2, fn_2))\n",
    "        \n",
    "show_most_informative_features(tfidf_1,clf)\n",
    "#Code Reference:https://stackoverflow.com/questions/11116697/how-to-get-most-informative-features-for-scikit-learn-classifiers"
   ]
  },
  {
   "cell_type": "markdown",
   "metadata": {},
   "source": [
    "# WORD2VECTOR Model"
   ]
  },
  {
   "cell_type": "code",
   "execution_count": 40,
   "metadata": {},
   "outputs": [],
   "source": [
    "# Train your own Word2Vec model using your own text corpus\n",
    "i=0\n",
    "list_of_sent=[]\n",
    "for sent in X_train.values:\n",
    "    list_of_sent.append(sent.split())"
   ]
  },
  {
   "cell_type": "code",
   "execution_count": 41,
   "metadata": {},
   "outputs": [
    {
     "name": "stdout",
     "output_type": "stream",
     "text": [
      "witti littl book make son laugh loud recit car drive along alway sing refrain hes learn whale india droop love new word book introduc silli classic book will bet son still abl recit memori colleg\n",
      "*****************************************************************\n",
      "['witti', 'littl', 'book', 'make', 'son', 'laugh', 'loud', 'recit', 'car', 'drive', 'along', 'alway', 'sing', 'refrain', 'hes', 'learn', 'whale', 'india', 'droop', 'love', 'new', 'word', 'book', 'introduc', 'silli', 'classic', 'book', 'will', 'bet', 'son', 'still', 'abl', 'recit', 'memori', 'colleg']\n"
     ]
    }
   ],
   "source": [
    "print(X_train.values[0])\n",
    "print(\"*****************************************************************\")\n",
    "print(list_of_sent[0])"
   ]
  },
  {
   "cell_type": "code",
   "execution_count": 42,
   "metadata": {},
   "outputs": [],
   "source": [
    "# min_count = 5 considers only words that occured atleast 5 times\n",
    "w2v_model=Word2Vec(list_of_sent,min_count=5,size=50, workers=4)"
   ]
  },
  {
   "cell_type": "code",
   "execution_count": 43,
   "metadata": {},
   "outputs": [
    {
     "name": "stdout",
     "output_type": "stream",
     "text": [
      "number of words that occured minimum 5 times  10848\n",
      "sample words  ['littl', 'book', 'make', 'son', 'laugh', 'loud', 'recit', 'car', 'drive', 'along', 'alway', 'sing', 'refrain', 'hes', 'learn', 'whale', 'india', 'droop', 'love', 'new', 'word', 'introduc', 'silli', 'classic', 'will', 'bet', 'still', 'abl', 'memori', 'colleg', 'grew', 'read', 'sendak', 'watch', 'realli', 'rosi', 'movi', 'incorpor', 'howev', 'miss', 'hard', 'cover', 'version', 'paperback', 'seem', 'kind', 'flimsi', 'take', 'two', 'hand']\n"
     ]
    }
   ],
   "source": [
    "w2v_words = list(w2v_model.wv.vocab)\n",
    "print(\"number of words that occured minimum 5 times \",len(w2v_words))\n",
    "print(\"sample words \", w2v_words[0:50])"
   ]
  },
  {
   "cell_type": "markdown",
   "metadata": {},
   "source": [
    "# AVGW2V"
   ]
  },
  {
   "cell_type": "markdown",
   "metadata": {},
   "source": [
    "### AVGW2V on train data"
   ]
  },
  {
   "cell_type": "code",
   "execution_count": 44,
   "metadata": {},
   "outputs": [
    {
     "name": "stdout",
     "output_type": "stream",
     "text": [
      "Wall time: 0 ns\n",
      "70000\n",
      "50\n"
     ]
    }
   ],
   "source": [
    "\n",
    "# average Word2Vec\n",
    "# compute average word2vec for each review.\n",
    "%time train_vectors = []; # the avg-w2v for each sentence/review is stored in this li\n",
    "for sent in list_of_sent: # for each review/sentence\n",
    "    sent_vec = np.zeros(50) # as word vectors are of zero length\n",
    "    cnt_words =0; # num of words with a valid vector in the sentence/review\n",
    "    for word in sent: # for each word in a review/sentence\n",
    "        if word in w2v_words:\n",
    "            vec = w2v_model.wv[word]\n",
    "            sent_vec += vec\n",
    "            cnt_words += 1\n",
    "    if cnt_words != 0:\n",
    "        sent_vec /= cnt_words\n",
    "    train_vectors.append(sent_vec)\n",
    "print(len(train_vectors))\n",
    "print(len(train_vectors[0]))"
   ]
  },
  {
   "cell_type": "code",
   "execution_count": 45,
   "metadata": {},
   "outputs": [],
   "source": [
    "avgw2v_train = preprocessing.normalize(train_vectors)"
   ]
  },
  {
   "cell_type": "markdown",
   "metadata": {},
   "source": [
    "### AVGW2V on test data"
   ]
  },
  {
   "cell_type": "code",
   "execution_count": 46,
   "metadata": {},
   "outputs": [],
   "source": [
    "# Train your own Word2Vec model using your own text corpus\n",
    "i=0\n",
    "list_of_sent_in_test=[]\n",
    "for sent in X_test.values:\n",
    "    list_of_sent_in_test.append(sent.split())"
   ]
  },
  {
   "cell_type": "code",
   "execution_count": 47,
   "metadata": {},
   "outputs": [
    {
     "name": "stdout",
     "output_type": "stream",
     "text": [
      "introduc madhava agav sister back jan diabet run famili decid use tea coffe cereal cold hot pass friend famili found also enjoy benefit tast doesnt take much make thing sweet high recommend anyon children well amazon best price\n",
      "*****************************************************************\n",
      "['introduc', 'madhava', 'agav', 'sister', 'back', 'jan', 'diabet', 'run', 'famili', 'decid', 'use', 'tea', 'coffe', 'cereal', 'cold', 'hot', 'pass', 'friend', 'famili', 'found', 'also', 'enjoy', 'benefit', 'tast', 'doesnt', 'take', 'much', 'make', 'thing', 'sweet', 'high', 'recommend', 'anyon', 'children', 'well', 'amazon', 'best', 'price']\n"
     ]
    }
   ],
   "source": [
    "print(X_test.values[0])\n",
    "print(\"*****************************************************************\")\n",
    "print(list_of_sent_in_test[0])"
   ]
  },
  {
   "cell_type": "code",
   "execution_count": 48,
   "metadata": {},
   "outputs": [
    {
     "name": "stdout",
     "output_type": "stream",
     "text": [
      "30000\n",
      "50\n"
     ]
    }
   ],
   "source": [
    "# average Word2Vec\n",
    "# compute average word2vec for each review.\n",
    "test_vectors = []; # the avg-w2v for each sentence/review is stored in this list\n",
    "\n",
    "for sent in list_of_sent_in_test : # for each review/sentence\n",
    "    sent_vec = np.zeros(50) # as word vectors are of zero length\n",
    "    cnt_words =0; # num of words with a valid vector in the sentence/review\n",
    "    for word in sent: # for each word in a review/sentence\n",
    "        if word in w2v_words:\n",
    "            vec = w2v_model.wv[word]\n",
    "            sent_vec += vec\n",
    "            cnt_words += 1\n",
    "    if cnt_words != 0:\n",
    "        sent_vec /= cnt_words\n",
    "    test_vectors.append(sent_vec)\n",
    "print(len(test_vectors))\n",
    "print(len(test_vectors[0]))"
   ]
  },
  {
   "cell_type": "code",
   "execution_count": 49,
   "metadata": {},
   "outputs": [],
   "source": [
    "avgw2v_test = preprocessing.normalize(test_vectors)"
   ]
  },
  {
   "cell_type": "code",
   "execution_count": 50,
   "metadata": {},
   "outputs": [
    {
     "name": "stdout",
     "output_type": "stream",
     "text": [
      "Fitting 10 folds for each of 30 candidates, totalling 300 fits\n"
     ]
    },
    {
     "name": "stderr",
     "output_type": "stream",
     "text": [
      "[Parallel(n_jobs=-1)]: Done  26 tasks      | elapsed:   22.3s\n",
      "[Parallel(n_jobs=-1)]: Done 176 tasks      | elapsed:  2.3min\n",
      "[Parallel(n_jobs=-1)]: Done 300 out of 300 | elapsed:  2.6min finished\n"
     ]
    },
    {
     "name": "stdout",
     "output_type": "stream",
     "text": [
      "Best HyperParameter:  {'C': 100, 'penalty': 'l2'}\n",
      "Best Accuracy:  89.2990727644193\n"
     ]
    }
   ],
   "source": [
    "log_reg_best_params(avgw2v_train, y_train)"
   ]
  },
  {
   "cell_type": "code",
   "execution_count": 51,
   "metadata": {},
   "outputs": [
    {
     "name": "stdout",
     "output_type": "stream",
     "text": [
      "accuracy_score = 0.8959\n",
      "precision_score = 0.9121428046720047\n",
      "recall_score = 0.9714062194406415\n"
     ]
    },
    {
     "data": {
      "text/plain": [
       "array([1, 1, 1, ..., 1, 1, 1], dtype=int64)"
      ]
     },
     "execution_count": 51,
     "metadata": {},
     "output_type": "execute_result"
    },
    {
     "data": {
      "image/png": "[encoded data removed]",
      "text/plain": [
       "<Figure size 432x288 with 2 Axes>"
      ]
     },
     "metadata": {},
     "output_type": "display_data"
    }
   ],
   "source": [
    "log_reg(100, 'l2', avgw2v_train, y_train, avgw2v_test, y_test)"
   ]
  },
  {
   "cell_type": "code",
   "execution_count": 52,
   "metadata": {},
   "outputs": [
    {
     "name": "stdout",
     "output_type": "stream",
     "text": [
      "Fitting 10 folds for each of 10 candidates, totalling 100 fits\n"
     ]
    },
    {
     "name": "stderr",
     "output_type": "stream",
     "text": [
      "[Parallel(n_jobs=-1)]: Done  26 tasks      | elapsed:   15.6s\n",
      "[Parallel(n_jobs=-1)]: Done 100 out of 100 | elapsed:   42.4s finished\n"
     ]
    },
    {
     "name": "stdout",
     "output_type": "stream",
     "text": [
      "Best HyperParameter:  {'penalty': 'l1', 'C': 10}\n",
      "Best Accuracy:  89.2990727644193\n"
     ]
    }
   ],
   "source": [
    "log_reg_best_params_rand(avgw2v_train, y_train)"
   ]
  },
  {
   "cell_type": "code",
   "execution_count": 53,
   "metadata": {
    "scrolled": false
   },
   "outputs": [
    {
     "name": "stdout",
     "output_type": "stream",
     "text": [
      "accuracy_score = 0.8958\n",
      "precision_score = 0.9120725750174459\n",
      "recall_score = 0.9713671034617641\n"
     ]
    },
    {
     "data": {
      "text/plain": [
       "array([1, 1, 1, ..., 1, 1, 1], dtype=int64)"
      ]
     },
     "execution_count": 53,
     "metadata": {},
     "output_type": "execute_result"
    },
    {
     "data": {
      "image/png": "[encoded data removed]",
      "text/plain": [
       "<Figure size 432x288 with 2 Axes>"
      ]
     },
     "metadata": {},
     "output_type": "display_data"
    }
   ],
   "source": [
    "log_reg_rand(10,'l1', avgw2v_train, y_train, avgw2v_test, y_test)"
   ]
  },
  {
   "cell_type": "markdown",
   "metadata": {},
   "source": [
    "# TFIDFW2V"
   ]
  },
  {
   "cell_type": "markdown",
   "metadata": {},
   "source": [
    "### TFIDFW2V on Train data"
   ]
  },
  {
   "cell_type": "code",
   "execution_count": 58,
   "metadata": {},
   "outputs": [],
   "source": [
    "#calculate TFIDF\n",
    "tf_idf_vect = TfidfVectorizer()\n",
    "final_tf_idf = tf_idf_vect.fit_transform(X_train.values)\n",
    "final_tf_idf = tf_idf_vect.transform(X_test.values)"
   ]
  },
  {
   "cell_type": "code",
   "execution_count": 55,
   "metadata": {},
   "outputs": [
    {
     "name": "stdout",
     "output_type": "stream",
     "text": [
      "70000\n",
      "50\n"
     ]
    }
   ],
   "source": [
    "# TF-IDF weighted Word2Vec\n",
    "tfidf_feat = tf_idf_vect.get_feature_names() # tfidf words/col-names\n",
    "# final_tf_idf is the sparse matrix with row= sentence, col=word and cell_val = tfidf\n",
    "np.seterr(divide='ignore', invalid='ignore')\n",
    "tfidf_train_vectors = []; # the tfidf-w2v for each sentence/review is stored in this list\n",
    "row=0;\n",
    "for sent in list_of_sent: # for each review/sentence\n",
    "    sent_vec = np.zeros(50) # as word vectors are of zero length\n",
    "    weight_sum =0; # num of words with a valid vector in the sentence/review\n",
    "    for word in sent: # for each word in a review/sentence\n",
    "        try:\n",
    "            vec = w2v_model.wv[word]\n",
    "            # obtain the tf_idfidf of a word in a sentence/review\n",
    "            tf_idf = final_tf_idf[row, tfidf_feat.index(word)]\n",
    "            sent_vec += (vec * tf_idf)\n",
    "            weight_sum += tf_idf\n",
    "        except:\n",
    "            pass\n",
    "    sent_vec /= weight_sum\n",
    "    tfidf_train_vectors.append(sent_vec)\n",
    "    row += 1\n",
    "print(len(tfidf_train_vectors))\n",
    "print(len(tfidf_train_vectors[0]))"
   ]
  },
  {
   "cell_type": "code",
   "execution_count": 56,
   "metadata": {},
   "outputs": [
    {
     "data": {
      "text/plain": [
       "(70000, 50)"
      ]
     },
     "execution_count": 56,
     "metadata": {},
     "output_type": "execute_result"
    }
   ],
   "source": [
    "tfidfw2v_train = preprocessing.normalize(tfidf_train_vectors)\n",
    "tfidfw2v_train.shape"
   ]
  },
  {
   "cell_type": "markdown",
   "metadata": {},
   "source": [
    "### TFIDFW2V on Test Data"
   ]
  },
  {
   "cell_type": "code",
   "execution_count": 59,
   "metadata": {},
   "outputs": [
    {
     "name": "stdout",
     "output_type": "stream",
     "text": [
      "30000\n",
      "50\n"
     ]
    }
   ],
   "source": [
    "# TF-IDF weighted Word2Vec\n",
    "tfidf_feat = tf_idf_vect.get_feature_names() # tfidf words/col-names\n",
    "# final_tf_idf is the sparse matrix with row= sentence, col=word and cell_val = tfidf\n",
    "np.seterr(divide='ignore', invalid='ignore')\n",
    "tfidf_test_vectors = []; # the tfidf-w2v for each sentence/review is stored in this list\n",
    "row=0;\n",
    "for sent in list_of_sent_in_test: # for each review/sentence\n",
    "    sent_vec = np.zeros(50) # as word vectors are of zero length\n",
    "    weight_sum =0; # num of words with a valid vector in the sentence/review\n",
    "    for word in sent: # for each word in a review/sentence\n",
    "        try:\n",
    "            vec = w2v_model.wv[word]\n",
    "            # obtain the tf_idfidf of a word in a sentence/review\n",
    "            tf_idf = final_tf_idf[row, tfidf_feat.index(word)]\n",
    "            sent_vec += (vec * tf_idf)\n",
    "            weight_sum += tf_idf\n",
    "        except:\n",
    "            pass\n",
    "    sent_vec /= weight_sum\n",
    "    tfidf_test_vectors.append(sent_vec)\n",
    "    row += 1\n",
    "print(len(tfidf_test_vectors))\n",
    "print(len(tfidf_test_vectors[0]))\n"
   ]
  },
  {
   "cell_type": "code",
   "execution_count": 60,
   "metadata": {},
   "outputs": [
    {
     "data": {
      "text/plain": [
       "(30000, 50)"
      ]
     },
     "execution_count": 60,
     "metadata": {},
     "output_type": "execute_result"
    }
   ],
   "source": [
    "tfidfw2v_test = preprocessing.normalize(tfidf_test_vectors)\n",
    "tfidfw2v_test.shape"
   ]
  },
  {
   "cell_type": "code",
   "execution_count": 61,
   "metadata": {},
   "outputs": [
    {
     "name": "stdout",
     "output_type": "stream",
     "text": [
      "Fitting 10 folds for each of 30 candidates, totalling 300 fits\n"
     ]
    },
    {
     "name": "stderr",
     "output_type": "stream",
     "text": [
      "[Parallel(n_jobs=-1)]: Done  26 tasks      | elapsed:   19.7s\n",
      "[Parallel(n_jobs=-1)]: Done 176 tasks      | elapsed:  2.1min\n",
      "[Parallel(n_jobs=-1)]: Done 300 out of 300 | elapsed:  2.5min finished\n"
     ]
    },
    {
     "name": "stdout",
     "output_type": "stream",
     "text": [
      "Best HyperParameter:  {'C': 5, 'penalty': 'l1'}\n",
      "Best Accuracy:  88.23353763947823\n"
     ]
    }
   ],
   "source": [
    "log_reg_best_params(tfidfw2v_train, y_train)"
   ]
  },
  {
   "cell_type": "code",
   "execution_count": 62,
   "metadata": {},
   "outputs": [
    {
     "name": "stdout",
     "output_type": "stream",
     "text": [
      "accuracy_score = 0.8845\n",
      "precision_score = 0.9001883239171374\n",
      "recall_score = 0.9722667709759437\n"
     ]
    },
    {
     "data": {
      "text/plain": [
       "array([1, 1, 1, ..., 1, 1, 1], dtype=int64)"
      ]
     },
     "execution_count": 62,
     "metadata": {},
     "output_type": "execute_result"
    },
    {
     "data": {
      "image/png": "[encoded data removed]",
      "text/plain": [
       "<Figure size 432x288 with 2 Axes>"
      ]
     },
     "metadata": {},
     "output_type": "display_data"
    }
   ],
   "source": [
    "log_reg(5, 'l1', tfidfw2v_train, y_train, tfidfw2v_test, y_test)"
   ]
  },
  {
   "cell_type": "code",
   "execution_count": 63,
   "metadata": {},
   "outputs": [
    {
     "name": "stdout",
     "output_type": "stream",
     "text": [
      "Fitting 10 folds for each of 10 candidates, totalling 100 fits\n"
     ]
    },
    {
     "name": "stderr",
     "output_type": "stream",
     "text": [
      "[Parallel(n_jobs=-1)]: Done  26 tasks      | elapsed:    8.9s\n",
      "[Parallel(n_jobs=-1)]: Done 100 out of 100 | elapsed:  1.1min finished\n"
     ]
    },
    {
     "name": "stdout",
     "output_type": "stream",
     "text": [
      "Best HyperParameter:  {'penalty': 'l1', 'C': 500}\n",
      "Best Accuracy:  88.23196605374824\n"
     ]
    }
   ],
   "source": [
    "log_reg_best_params_rand(tfidfw2v_train, y_train)"
   ]
  },
  {
   "cell_type": "code",
   "execution_count": 64,
   "metadata": {
    "scrolled": false
   },
   "outputs": [
    {
     "name": "stdout",
     "output_type": "stream",
     "text": [
      "accuracy_score = 0.8845666666666666\n",
      "precision_score = 0.9003115264797508\n",
      "recall_score = 0.9721885390181889\n"
     ]
    },
    {
     "data": {
      "text/plain": [
       "array([1, 1, 1, ..., 1, 1, 1], dtype=int64)"
      ]
     },
     "execution_count": 64,
     "metadata": {},
     "output_type": "execute_result"
    },
    {
     "data": {
      "image/png": "[encoded data removed]",
      "text/plain": [
       "<Figure size 432x288 with 2 Axes>"
      ]
     },
     "metadata": {},
     "output_type": "display_data"
    }
   ],
   "source": [
    "log_reg_rand(500,'l1', tfidfw2v_train, y_train, tfidfw2v_test, y_test)"
   ]
  },
  {
   "cell_type": "markdown",
   "metadata": {},
   "source": [
    "# 1.5 report what happens to sparsity when lamda increases using L1 regularizor."
   ]
  },
  {
   "cell_type": "markdown",
   "metadata": {},
   "source": [
    "#### Theory: as lambda increases sparsity increases(number of zeros in a vector increases)\n",
    "\n",
    "typical lambda values = #c=1/lambda, lambda = 0.001,0.002,0.01,0.02,0.1,0.2,1,2,10,20,100,200,1000,2000,10000. \n",
    "\n",
    "C = 1000,500,100,50,10,5,1,0.5,0.1,0.05,0.01,0.005,0.001,0.0005,0.0001"
   ]
  },
  {
   "cell_type": "code",
   "execution_count": 65,
   "metadata": {},
   "outputs": [
    {
     "name": "stdout",
     "output_type": "stream",
     "text": [
      "Number of Non-Zero values in vector for C = 1000 with L1 regularization : 13717\n",
      "Number of Non-Zero values in vector for C = 100 with L1 regularization : 10856\n",
      "Number of Non-Zero values in vector for C = 50 with L1 regularization : 9552\n",
      "Number of Non-Zero values in vector for C = 10 with L1 regularization : 5403\n",
      "Number of Non-Zero values in vector for C = 0.1 with L1 regularization : 201\n"
     ]
    }
   ],
   "source": [
    "c = [1000, 100, 50, 10, 0.1]\n",
    "for i in c :\n",
    "    clf = LogisticRegression(C=i, penalty='l1')\n",
    "    clf.fit(bow_X_train, y_train)\n",
    "    w = clf.coef_ #get weights\n",
    "    print(f'Number of Non-Zero values in vector for C = {i} with L1 regularization :' ,np.count_nonzero(w)) #no of cells in a vector where values are non-zero"
   ]
  },
  {
   "cell_type": "markdown",
   "metadata": {},
   "source": [
    "**Observation**\n",
    "\n",
    "as we can see number of non zero values decrease i.e number of zeros in a vector increases"
   ]
  },
  {
   "cell_type": "markdown",
   "metadata": {},
   "source": [
    "# 1.7 get feature importance(check multicollinearity) - Perturbation test"
   ]
  },
  {
   "cell_type": "markdown",
   "metadata": {},
   "source": [
    "**THEORY**\n",
    "\n",
    "1. calculate weights vector for the original dataset\n",
    "\n",
    "2. add some noise to the datapoints"
   ]
  },
  {
   "cell_type": "markdown",
   "metadata": {},
   "source": [
    "add some noise to our train data points and compare its weight vector with original train dataset"
   ]
  },
  {
   "cell_type": "code",
   "execution_count": 77,
   "metadata": {},
   "outputs": [
    {
     "name": "stdout",
     "output_type": "stream",
     "text": [
      "accuracy_score = 0.8522\n",
      "precision_score = 0.8521950731691056\n",
      "recall_score = 1.0\n",
      "number of non-zero elements : 32149\n"
     ]
    },
    {
     "data": {
      "text/plain": [
       "<matplotlib.axes._subplots.AxesSubplot at 0x12ef4a9c358>"
      ]
     },
     "execution_count": 77,
     "metadata": {},
     "output_type": "execute_result"
    },
    {
     "data": {
      "image/png": "[encoded data removed]",
      "text/plain": [
       "<Figure size 432x288 with 2 Axes>"
      ]
     },
     "metadata": {},
     "output_type": "display_data"
    }
   ],
   "source": [
    "clf = LogisticRegression(C= 5, penalty= 'l2')\n",
    "clf.fit(bow_X_train,y_train)\n",
    "y_pred = clf.predict(bow_X_test)\n",
    "print('accuracy_score =', accuracy_score(y_test, y_pred))\n",
    "print('precision_score =', precision_score(y_test, y_pred))\n",
    "print('recall_score =', recall_score(y_test, y_pred))\n",
    "print('number of non-zero elements :', np.count_nonzero(clf.coef_))\n",
    "cm=confusion_matrix(y_test, y_pred)\n",
    "sns.heatmap(cm, annot=True, fmt='d')"
   ]
  },
  {
   "cell_type": "code",
   "execution_count": 78,
   "metadata": {},
   "outputs": [
    {
     "name": "stdout",
     "output_type": "stream",
     "text": [
      "[ 4.09979608e-01  3.97203109e-01 -1.52229597e-03 -1.06615872e-01\n",
      "  3.45842758e-02  8.20446874e-01 -7.07117433e-01 -7.18519081e-03\n",
      "  6.68225901e-01  8.27436375e-01 -9.03246688e-02 -1.23465802e+00\n",
      " -6.51253244e-02 -3.02791487e-01  7.47239649e-01 -2.35880129e-01\n",
      "  7.39477572e-02  1.46699966e-01  2.51788983e-01 -9.70569911e-01\n",
      "  5.95557116e-01  1.77738743e-01  1.25064587e-01 -7.72560048e-02\n",
      " -3.74635734e-01 -1.16315742e-01  1.84433998e-01  3.60463431e-01\n",
      " -1.06198312e-01  3.90122897e-01  3.91813740e-01 -8.39466264e-02\n",
      "  1.48051807e+00 -1.38402366e+00  6.84210237e-01  2.20717506e-01\n",
      " -8.43710814e-02 -1.17113584e+00  1.15669705e-01  7.03571844e-01\n",
      " -2.57068924e+00 -1.08390632e-02  4.97262905e-01  8.48665036e-01\n",
      "  1.89640309e-01 -4.47008524e-01 -3.68047821e-02  7.71324910e-01\n",
      "  7.85315190e-01 -1.44494762e-01]\n"
     ]
    }
   ],
   "source": [
    "#Returns non zero elements in a matrix\n",
    "from scipy.sparse import find #prints only non zero values of sparse vector\n",
    "#Weights before adding random noise\n",
    "weights1 = find(clf.coef_[0])[2] #index '0' contains clf, index '1' contains column names, index '2' contains the weights. so we access only weights\n",
    "print(weights1[:50])"
   ]
  },
  {
   "cell_type": "code",
   "execution_count": 79,
   "metadata": {},
   "outputs": [],
   "source": [
    "x_train_t = bow_X_train\n",
    "#Random noise\n",
    "epsilon = np.random.normal(loc=0, scale=1, size=(find(x_train_t)[0].size,))\n",
    "#Getting the postions(row and column) and value of non-zero datapoints \n",
    "a,b,c = find(x_train_t)\n",
    "#Introducing random noise to non-zero datapoints\n",
    "x_train_t[a,b] = epsilon + x_train_t[a,b]"
   ]
  },
  {
   "cell_type": "code",
   "execution_count": 80,
   "metadata": {},
   "outputs": [
    {
     "name": "stdout",
     "output_type": "stream",
     "text": [
      "accuracy_score = 0.8522\n",
      "precision_score = 0.8521950731691056\n",
      "recall_score = 1.0\n",
      "number of non-zero elements : 32149\n"
     ]
    },
    {
     "data": {
      "text/plain": [
       "<matplotlib.axes._subplots.AxesSubplot at 0x12ef47ee1d0>"
      ]
     },
     "execution_count": 80,
     "metadata": {},
     "output_type": "execute_result"
    },
    {
     "data": {
      "image/png": "[encoded data removed]",
      "text/plain": [
       "<Figure size 432x288 with 2 Axes>"
      ]
     },
     "metadata": {},
     "output_type": "display_data"
    }
   ],
   "source": [
    "clf = LogisticRegression(C=5, penalty='l2')#c, l2 most outcome hyperparameter\n",
    "clf.fit(x_train_t, y_train)\n",
    "y_pred=clf.predict(bow_X_test)\n",
    "print('accuracy_score =', accuracy_score(y_test, y_pred))\n",
    "print('precision_score =', precision_score(y_test, y_pred))\n",
    "print('recall_score =', recall_score(y_test, y_pred))\n",
    "print('number of non-zero elements :', np.count_nonzero(clf.coef_))\n",
    "cm=confusion_matrix(y_test, y_pred)\n",
    "sns.heatmap(cm, annot=True, fmt='d')"
   ]
  },
  {
   "cell_type": "code",
   "execution_count": 81,
   "metadata": {},
   "outputs": [
    {
     "name": "stdout",
     "output_type": "stream",
     "text": [
      "[ 0.10929824 -0.35071215 -0.13453866  0.01445846  0.0221669   0.815576\n",
      " -0.61465652 -0.06074554  0.20227202  0.42113223 -0.22281701 -0.85095391\n",
      " -1.24475461  0.3641009   0.27552457 -0.02410019  0.35196598  0.66865629\n",
      "  0.28560336  0.76106481 -0.62758307 -0.29645228  0.14901169 -0.13929226\n",
      " -0.16133379 -0.30672453  0.56055953  0.25337559 -0.41626678  0.05131717\n",
      " -1.18133401 -0.38214096  0.73622731 -0.81980495 -0.46188004  0.29895028\n",
      "  0.07374555 -2.0231383   0.1522279   0.14681588 -1.02726654 -0.09718674\n",
      "  0.39095755  1.47426486  0.95612056 -0.2700209  -0.16172987  0.23775194\n",
      "  1.12352552 -0.63485173]\n"
     ]
    }
   ],
   "source": [
    "from scipy.sparse import find\n",
    "#Weights after adding random noise\n",
    "weights2 = find(clf.coef_[0])[2]\n",
    "print(weights2[:50])"
   ]
  },
  {
   "cell_type": "code",
   "execution_count": 82,
   "metadata": {},
   "outputs": [
    {
     "name": "stdout",
     "output_type": "stream",
     "text": [
      "(32149,)\n",
      "(32149,)\n"
     ]
    }
   ],
   "source": [
    "print(weights1.shape)\n",
    "print(weights2.shape)"
   ]
  },
  {
   "cell_type": "code",
   "execution_count": 83,
   "metadata": {},
   "outputs": [
    {
     "name": "stdout",
     "output_type": "stream",
     "text": [
      "14151\n"
     ]
    }
   ],
   "source": [
    "weights_diff = (abs(weights1 - weights2)/weights1) * 100\n",
    "print(weights_diff[np.where(weights_diff > 30)].size)"
   ]
  },
  {
   "cell_type": "markdown",
   "metadata": {},
   "source": [
    "##### There are 14151 features that has significantly changed 30%\n",
    "\n",
    "since w1 and w2 have changed significantly that means multi-collinearity exists in our data."
   ]
  },
  {
   "cell_type": "markdown",
   "metadata": {},
   "source": [
    "# RESULTS"
   ]
  },
  {
   "cell_type": "code",
   "execution_count": 86,
   "metadata": {},
   "outputs": [
    {
     "name": "stdout",
     "output_type": "stream",
     "text": [
      "+--------------------------------------------+-------------+----------+-----------+------------+\n",
      "|                   MODEL                    | C & PENALTY | ACCURACY | PRECISION |   RECALL   |\n",
      "+--------------------------------------------+-------------+----------+-----------+------------+\n",
      "|  BOW with LOGISTIC REGRESSION GridSearch   |    5 & L2   |   0.92   |    0.93   |    0.97    |\n",
      "|    BOW with LOGISTIC REGRESSION Random     |    1 & L1   |   0.92   |    0.93   |    0.97    |\n",
      "|                 ----------                 |    -----    | -------- |   -----   | ---------- |\n",
      "| TFIDF with LOGISTIC REGRESSION GridSearch  |    5 & L2   |   0.92   |    0.93   |    0.97    |\n",
      "|   TFIDF with LOGISTIC REGRESSION Random    |   10 & L1   |   0.91   |    0.94   |    0.95    |\n",
      "|                 ----------                 |   --------  | -------- |   -----   | ---------- |\n",
      "| AVGW2V with LOGISTIC REGRESSION GridSearch |   100 & L2  |   0.89   |    0.9    |    0.97    |\n",
      "|   AVGW2V with LOGISTIC REGRESSION Random   |   10 & L1   |   0.89   |    0.9    |    0.97    |\n",
      "|                 ----------                 |   --------  | -------- |   -----   | ---------- |\n",
      "|  BOW with LOGISTIC REGRESSION GridSearch   |    5 & L1   |   0.87   |    0.88   |    0.97    |\n",
      "|    BOW with LOGISTIC REGRESSION Random     |   500 & L1  |   0.88   |    0.9    |    0.97    |\n",
      "+--------------------------------------------+-------------+----------+-----------+------------+\n"
     ]
    }
   ],
   "source": [
    "from prettytable import PrettyTable\n",
    "x = PrettyTable()\n",
    "x.field_names = [\"MODEL\", \"C & PENALTY\", \"ACCURACY\", \"PRECISION\", \"RECALL\" ]\n",
    "#BOW\n",
    "x.add_row(['BOW with LOGISTIC REGRESSION GridSearch', '5 & L2', 0.92, 0.93, 0.97])\n",
    "x.add_row([\"BOW with LOGISTIC REGRESSION Random\", '1 & L1', 0.92, 0.93, 0.97])\n",
    "x.add_row(['--'*5,'-'*5,'-'*8,'-'*5, '--'*5])\n",
    "#TFIDF\n",
    "x.add_row(['TFIDF with LOGISTIC REGRESSION GridSearch', '5 & L2', 0.92, 0.93, 0.97])\n",
    "x.add_row([\"TFIDF with LOGISTIC REGRESSION Random\", '10 & L1' ,0.91, 0.94, 0.95])\n",
    "x.add_row(['--'*5,'-'*8,'-'*8,'-'*5, '--'*5])\n",
    "#AVGW2V\n",
    "x.add_row(['AVGW2V with LOGISTIC REGRESSION GridSearch', '100 & L2', 0.89, 0.90, 0.97])\n",
    "x.add_row([\"AVGW2V with LOGISTIC REGRESSION Random\", '10 & L1', 0.89, 0.90, 0.97])\n",
    "x.add_row(['--'*5,'-'*8,'-'*8,'-'*5, '--'*5])\n",
    "#TFIDFW2V\n",
    "x.add_row(['BOW with LOGISTIC REGRESSION GridSearch', '5 & L1', 0.87, 0.88, 0.97])\n",
    "x.add_row([\"BOW with LOGISTIC REGRESSION Random\", '500 & L1', 0.88, 0.90, 0.97])\n",
    "print(x)"
   ]
  },
  {
   "cell_type": "code",
   "execution_count": 84,
   "metadata": {},
   "outputs": [
    {
     "data": {
      "text/plain": [
       "1    25565\n",
       "0     4435\n",
       "Name: Score, dtype: int64"
      ]
     },
     "execution_count": 84,
     "metadata": {},
     "output_type": "execute_result"
    }
   ],
   "source": [
    "#number of positive and negative values in test data\n",
    "y_test.value_counts()"
   ]
  },
  {
   "cell_type": "markdown",
   "metadata": {},
   "source": [
    "**OBSERVATIONS**\n",
    "\n",
    "since AVGW2v and TFIDFW2V took too much time for converting to a vector. the total number of datapoints used are limited to 100K. also, the BOW & TFIDF were trained on all data and the confusion matrix and accuracy score were same in percentages. so, having extra data didn't give any significant improvement in overall results so only 100k datapoints are used.\n",
    "\n",
    "\n",
    "1. The best results were obtained from BOW & TFIDF with closely 2.3k mis-classifications out of 30k datapoints.\n",
    "\n",
    "2. Logistic Regression model works fantastic in comparison with Naive bayes. where in NB highest accuracy was 88%. but in Logistic Regression it is 92%. Also in Bow the misclassification rate is much lower compared to naive bayes(MultinomialNB)\n",
    "\n",
    "3. in comparison GridSearchCV() takes more time than RandomizedSearchCV(). but random search was able to produce results faster and in comparison the misclassification is 100 extra with random hyperparameter search.\n",
    "\n",
    "4. Perturbation test show that there are 14k features that are collinear. may be removing them might give considerable increase in misclassification rate.\n",
    "\n",
    "5. since this data is imbalanced, there are large amount of data for positive reviews. so, the False positive rate is very high on almost all the vectorizers. W2V perfom very bad on this."
   ]
  },
  {
   "cell_type": "code",
   "execution_count": null,
   "metadata": {},
   "outputs": [],
   "source": []
  }
 ],
 "metadata": {
  "kernelspec": {
   "display_name": "Python 3",
   "language": "python",
   "name": "python3"
  },
  "language_info": {
   "codemirror_mode": {
    "name": "ipython",
    "version": 3
   },
   "file_extension": ".py",
   "mimetype": "text/x-python",
   "name": "python",
   "nbconvert_exporter": "python",
   "pygments_lexer": "ipython3",
   "version": "3.6.5"
  }
 },
 "nbformat": 4,
 "nbformat_minor": 2
}
