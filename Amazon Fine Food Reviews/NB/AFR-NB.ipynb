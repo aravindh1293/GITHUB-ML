{
 "cells": [
  {
   "cell_type": "code",
   "execution_count": 1,
   "metadata": {},
   "outputs": [],
   "source": [
    "#main libraries\n",
    "import sqlite3\n",
    "import pandas as pd\n",
    "import numpy as np\n",
    "import seaborn as sns\n",
    "import matplotlib.pyplot as plt\n",
    "import warnings\n",
    "warnings.filterwarnings(\"ignore\")"
   ]
  },
  {
   "cell_type": "code",
   "execution_count": 2,
   "metadata": {},
   "outputs": [],
   "source": [
    "#vectorizors\n",
    "from sklearn.feature_extraction.text import TfidfTransformer\n",
    "from sklearn.feature_extraction.text import TfidfVectorizer\n",
    "from sklearn.feature_extraction.text import CountVectorizer\n",
    "import gensim\n",
    "from gensim.models import Word2Vec\n",
    "from gensim.models import KeyedVectors\n",
    "import pickle"
   ]
  },
  {
   "cell_type": "code",
   "execution_count": 3,
   "metadata": {},
   "outputs": [],
   "source": [
    "#performence metrics\n",
    "from sklearn.metrics import confusion_matrix\n",
    "from sklearn import metrics\n",
    "from sklearn.metrics import accuracy_score\n",
    "from sklearn.metrics import f1_score\n",
    "from sklearn.metrics import precision_score\n",
    "from sklearn.metrics import recall_score"
   ]
  },
  {
   "cell_type": "code",
   "execution_count": 4,
   "metadata": {},
   "outputs": [],
   "source": [
    "#modules for building ML model\n",
    "from sklearn.model_selection import train_test_split\n",
    "from sklearn.naive_bayes import BernoulliNB\n",
    "from sklearn.naive_bayes import MultinomialNB\n",
    "from sklearn.model_selection import GridSearchCV\n",
    "from sklearn.model_selection import RandomizedSearchCV\n",
    "from sklearn.model_selection import TimeSeriesSplit"
   ]
  },
  {
   "cell_type": "markdown",
   "metadata": {},
   "source": [
    "## Objective\n",
    "\n",
    "1. use BernoulliNB(), MultinomialNB().\n",
    "\n",
    "2. find right 'alpha' using 10fold cv.\n",
    "\n",
    "3. Build Naive bayes with featurisation techniques like BOW, TFIDF AVGW2V2 TFIDFW2V.\n",
    "\n",
    "4. get accuracy, precision scores, confusion matrrix, recall score, f1 score.\n",
    "\n",
    "5. get important features for +ve and -ve class."
   ]
  },
  {
   "cell_type": "code",
   "execution_count": 5,
   "metadata": {},
   "outputs": [],
   "source": [
    "#connect sql database\n",
    "con = sqlite3.connect('final.sqlite')"
   ]
  },
  {
   "cell_type": "code",
   "execution_count": 6,
   "metadata": {},
   "outputs": [],
   "source": [
    "#read sql data using pandas\n",
    "data = pd.read_sql(\"SELECT * FROM REVIEWS\", con)"
   ]
  },
  {
   "cell_type": "code",
   "execution_count": 7,
   "metadata": {},
   "outputs": [],
   "source": [
    "def partition(x) :\n",
    "    if x == 'positive' :\n",
    "        return 1\n",
    "    return 0\n",
    "\n",
    "actualscore = data['Score']\n",
    "positivenegative = actualscore.map(partition)\n",
    "data['Score'] = positivenegative"
   ]
  },
  {
   "cell_type": "code",
   "execution_count": 8,
   "metadata": {},
   "outputs": [
    {
     "data": {
      "text/html": [
       "<div>\n",
       "<style scoped>\n",
       "    .dataframe tbody tr th:only-of-type {\n",
       "        vertical-align: middle;\n",
       "    }\n",
       "\n",
       "    .dataframe tbody tr th {\n",
       "        vertical-align: top;\n",
       "    }\n",
       "\n",
       "    .dataframe thead th {\n",
       "        text-align: right;\n",
       "    }\n",
       "</style>\n",
       "<table border=\"1\" class=\"dataframe\">\n",
       "  <thead>\n",
       "    <tr style=\"text-align: right;\">\n",
       "      <th></th>\n",
       "      <th>index</th>\n",
       "      <th>Id</th>\n",
       "      <th>ProductId</th>\n",
       "      <th>UserId</th>\n",
       "      <th>ProfileName</th>\n",
       "      <th>HelpfulnessNumerator</th>\n",
       "      <th>HelpfulnessDenominator</th>\n",
       "      <th>Score</th>\n",
       "      <th>Time</th>\n",
       "      <th>Summary</th>\n",
       "      <th>Text</th>\n",
       "      <th>CleanedText</th>\n",
       "    </tr>\n",
       "  </thead>\n",
       "  <tbody>\n",
       "    <tr>\n",
       "      <th>0</th>\n",
       "      <td>138706</td>\n",
       "      <td>150524</td>\n",
       "      <td>0006641040</td>\n",
       "      <td>ACITT7DI6IDDL</td>\n",
       "      <td>shari zychinski</td>\n",
       "      <td>0</td>\n",
       "      <td>0</td>\n",
       "      <td>1</td>\n",
       "      <td>939340800</td>\n",
       "      <td>EVERY book is educational</td>\n",
       "      <td>this witty little book makes my son laugh at l...</td>\n",
       "      <td>witti littl book make son laugh loud recit car...</td>\n",
       "    </tr>\n",
       "    <tr>\n",
       "      <th>1</th>\n",
       "      <td>138688</td>\n",
       "      <td>150506</td>\n",
       "      <td>0006641040</td>\n",
       "      <td>A2IW4PEEKO2R0U</td>\n",
       "      <td>Tracy</td>\n",
       "      <td>1</td>\n",
       "      <td>1</td>\n",
       "      <td>1</td>\n",
       "      <td>1194739200</td>\n",
       "      <td>Love the book, miss the hard cover version</td>\n",
       "      <td>I grew up reading these Sendak books, and watc...</td>\n",
       "      <td>grew read sendak book watch realli rosi movi i...</td>\n",
       "    </tr>\n",
       "    <tr>\n",
       "      <th>2</th>\n",
       "      <td>138689</td>\n",
       "      <td>150507</td>\n",
       "      <td>0006641040</td>\n",
       "      <td>A1S4A3IQ2MU7V4</td>\n",
       "      <td>sally sue \"sally sue\"</td>\n",
       "      <td>1</td>\n",
       "      <td>1</td>\n",
       "      <td>1</td>\n",
       "      <td>1191456000</td>\n",
       "      <td>chicken soup with rice months</td>\n",
       "      <td>This is a fun way for children to learn their ...</td>\n",
       "      <td>fun way children learn month year learn poem t...</td>\n",
       "    </tr>\n",
       "    <tr>\n",
       "      <th>3</th>\n",
       "      <td>138690</td>\n",
       "      <td>150508</td>\n",
       "      <td>0006641040</td>\n",
       "      <td>AZGXZ2UUK6X</td>\n",
       "      <td>Catherine Hallberg \"(Kate)\"</td>\n",
       "      <td>1</td>\n",
       "      <td>1</td>\n",
       "      <td>1</td>\n",
       "      <td>1076025600</td>\n",
       "      <td>a good swingy rhythm for reading aloud</td>\n",
       "      <td>This is a great little book to read aloud- it ...</td>\n",
       "      <td>great littl book read nice rhythm well good re...</td>\n",
       "    </tr>\n",
       "    <tr>\n",
       "      <th>4</th>\n",
       "      <td>138691</td>\n",
       "      <td>150509</td>\n",
       "      <td>0006641040</td>\n",
       "      <td>A3CMRKGE0P909G</td>\n",
       "      <td>Teresa</td>\n",
       "      <td>3</td>\n",
       "      <td>4</td>\n",
       "      <td>1</td>\n",
       "      <td>1018396800</td>\n",
       "      <td>A great way to learn the months</td>\n",
       "      <td>This is a book of poetry about the months of t...</td>\n",
       "      <td>book poetri month year goe month cute littl po...</td>\n",
       "    </tr>\n",
       "  </tbody>\n",
       "</table>\n",
       "</div>"
      ],
      "text/plain": [
       "    index      Id   ProductId          UserId                  ProfileName  \\\n",
       "0  138706  150524  0006641040   ACITT7DI6IDDL              shari zychinski   \n",
       "1  138688  150506  0006641040  A2IW4PEEKO2R0U                        Tracy   \n",
       "2  138689  150507  0006641040  A1S4A3IQ2MU7V4        sally sue \"sally sue\"   \n",
       "3  138690  150508  0006641040     AZGXZ2UUK6X  Catherine Hallberg \"(Kate)\"   \n",
       "4  138691  150509  0006641040  A3CMRKGE0P909G                       Teresa   \n",
       "\n",
       "   HelpfulnessNumerator  HelpfulnessDenominator  Score        Time  \\\n",
       "0                     0                       0      1   939340800   \n",
       "1                     1                       1      1  1194739200   \n",
       "2                     1                       1      1  1191456000   \n",
       "3                     1                       1      1  1076025600   \n",
       "4                     3                       4      1  1018396800   \n",
       "\n",
       "                                      Summary  \\\n",
       "0                   EVERY book is educational   \n",
       "1  Love the book, miss the hard cover version   \n",
       "2               chicken soup with rice months   \n",
       "3      a good swingy rhythm for reading aloud   \n",
       "4             A great way to learn the months   \n",
       "\n",
       "                                                Text  \\\n",
       "0  this witty little book makes my son laugh at l...   \n",
       "1  I grew up reading these Sendak books, and watc...   \n",
       "2  This is a fun way for children to learn their ...   \n",
       "3  This is a great little book to read aloud- it ...   \n",
       "4  This is a book of poetry about the months of t...   \n",
       "\n",
       "                                         CleanedText  \n",
       "0  witti littl book make son laugh loud recit car...  \n",
       "1  grew read sendak book watch realli rosi movi i...  \n",
       "2  fun way children learn month year learn poem t...  \n",
       "3  great littl book read nice rhythm well good re...  \n",
       "4  book poetri month year goe month cute littl po...  "
      ]
     },
     "execution_count": 8,
     "metadata": {},
     "output_type": "execute_result"
    }
   ],
   "source": [
    "data.head()"
   ]
  },
  {
   "cell_type": "code",
   "execution_count": 9,
   "metadata": {},
   "outputs": [
    {
     "name": "stdout",
     "output_type": "stream",
     "text": [
      "Number of positive & negative data points are \n",
      " 1    307061\n",
      "0     57110\n",
      "Name: Score, dtype: int64\n"
     ]
    },
    {
     "data": {
      "text/plain": [
       "<matplotlib.axes._subplots.AxesSubplot at 0x29907782d30>"
      ]
     },
     "execution_count": 9,
     "metadata": {},
     "output_type": "execute_result"
    },
    {
     "data": {
      "image/png": "[encoded data removed]",
      "text/plain": [
       "<Figure size 432x288 with 1 Axes>"
      ]
     },
     "metadata": {},
     "output_type": "display_data"
    }
   ],
   "source": [
    "print ('Number of positive & negative data points are \\n',data['Score'].value_counts())\n",
    "data['Score'].value_counts().plot(kind='bar')"
   ]
  },
  {
   "cell_type": "code",
   "execution_count": 10,
   "metadata": {},
   "outputs": [],
   "source": [
    "#sort data based on time\n",
    "df_time_sorted = data.sort_values('Time', kind ='quicksort')"
   ]
  },
  {
   "cell_type": "code",
   "execution_count": 11,
   "metadata": {},
   "outputs": [
    {
     "data": {
      "text/html": [
       "<div>\n",
       "<style scoped>\n",
       "    .dataframe tbody tr th:only-of-type {\n",
       "        vertical-align: middle;\n",
       "    }\n",
       "\n",
       "    .dataframe tbody tr th {\n",
       "        vertical-align: top;\n",
       "    }\n",
       "\n",
       "    .dataframe thead th {\n",
       "        text-align: right;\n",
       "    }\n",
       "</style>\n",
       "<table border=\"1\" class=\"dataframe\">\n",
       "  <thead>\n",
       "    <tr style=\"text-align: right;\">\n",
       "      <th></th>\n",
       "      <th>index</th>\n",
       "      <th>Id</th>\n",
       "      <th>ProductId</th>\n",
       "      <th>UserId</th>\n",
       "      <th>ProfileName</th>\n",
       "      <th>HelpfulnessNumerator</th>\n",
       "      <th>HelpfulnessDenominator</th>\n",
       "      <th>Score</th>\n",
       "      <th>Time</th>\n",
       "      <th>Summary</th>\n",
       "      <th>Text</th>\n",
       "      <th>CleanedText</th>\n",
       "    </tr>\n",
       "  </thead>\n",
       "  <tbody>\n",
       "    <tr>\n",
       "      <th>0</th>\n",
       "      <td>138706</td>\n",
       "      <td>150524</td>\n",
       "      <td>0006641040</td>\n",
       "      <td>ACITT7DI6IDDL</td>\n",
       "      <td>shari zychinski</td>\n",
       "      <td>0</td>\n",
       "      <td>0</td>\n",
       "      <td>1</td>\n",
       "      <td>939340800</td>\n",
       "      <td>EVERY book is educational</td>\n",
       "      <td>this witty little book makes my son laugh at l...</td>\n",
       "      <td>witti littl book make son laugh loud recit car...</td>\n",
       "    </tr>\n",
       "    <tr>\n",
       "      <th>30</th>\n",
       "      <td>138683</td>\n",
       "      <td>150501</td>\n",
       "      <td>0006641040</td>\n",
       "      <td>AJ46FKXOVC7NR</td>\n",
       "      <td>Nicholas A Mesiano</td>\n",
       "      <td>2</td>\n",
       "      <td>2</td>\n",
       "      <td>1</td>\n",
       "      <td>940809600</td>\n",
       "      <td>This whole series is great way to spend time w...</td>\n",
       "      <td>I can remember seeing the show when it aired o...</td>\n",
       "      <td>rememb see show air televis year ago child sis...</td>\n",
       "    </tr>\n",
       "    <tr>\n",
       "      <th>424</th>\n",
       "      <td>417839</td>\n",
       "      <td>451856</td>\n",
       "      <td>B00004CXX9</td>\n",
       "      <td>AIUWLEQ1ADEG5</td>\n",
       "      <td>Elizabeth Medina</td>\n",
       "      <td>0</td>\n",
       "      <td>0</td>\n",
       "      <td>1</td>\n",
       "      <td>944092800</td>\n",
       "      <td>Entertainingl Funny!</td>\n",
       "      <td>Beetlejuice is a well written movie ..... ever...</td>\n",
       "      <td>beetlejuic well written movi everyth excel act...</td>\n",
       "    </tr>\n",
       "    <tr>\n",
       "      <th>330</th>\n",
       "      <td>346055</td>\n",
       "      <td>374359</td>\n",
       "      <td>B00004CI84</td>\n",
       "      <td>A344SMIA5JECGM</td>\n",
       "      <td>Vincent P. Ross</td>\n",
       "      <td>1</td>\n",
       "      <td>2</td>\n",
       "      <td>1</td>\n",
       "      <td>944438400</td>\n",
       "      <td>A modern day fairy tale</td>\n",
       "      <td>A twist of rumplestiskin captured on film, sta...</td>\n",
       "      <td>twist rumplestiskin captur film star michael k...</td>\n",
       "    </tr>\n",
       "    <tr>\n",
       "      <th>423</th>\n",
       "      <td>417838</td>\n",
       "      <td>451855</td>\n",
       "      <td>B00004CXX9</td>\n",
       "      <td>AJH6LUC1UT1ON</td>\n",
       "      <td>The Phantom of the Opera</td>\n",
       "      <td>0</td>\n",
       "      <td>0</td>\n",
       "      <td>1</td>\n",
       "      <td>946857600</td>\n",
       "      <td>FANTASTIC!</td>\n",
       "      <td>Beetlejuice is an excellent and funny movie. K...</td>\n",
       "      <td>beetlejuic excel funni movi keaton hilari wack...</td>\n",
       "    </tr>\n",
       "  </tbody>\n",
       "</table>\n",
       "</div>"
      ],
      "text/plain": [
       "      index      Id   ProductId          UserId               ProfileName  \\\n",
       "0    138706  150524  0006641040   ACITT7DI6IDDL           shari zychinski   \n",
       "30   138683  150501  0006641040   AJ46FKXOVC7NR        Nicholas A Mesiano   \n",
       "424  417839  451856  B00004CXX9   AIUWLEQ1ADEG5          Elizabeth Medina   \n",
       "330  346055  374359  B00004CI84  A344SMIA5JECGM           Vincent P. Ross   \n",
       "423  417838  451855  B00004CXX9   AJH6LUC1UT1ON  The Phantom of the Opera   \n",
       "\n",
       "     HelpfulnessNumerator  HelpfulnessDenominator  Score       Time  \\\n",
       "0                       0                       0      1  939340800   \n",
       "30                      2                       2      1  940809600   \n",
       "424                     0                       0      1  944092800   \n",
       "330                     1                       2      1  944438400   \n",
       "423                     0                       0      1  946857600   \n",
       "\n",
       "                                               Summary  \\\n",
       "0                            EVERY book is educational   \n",
       "30   This whole series is great way to spend time w...   \n",
       "424                               Entertainingl Funny!   \n",
       "330                            A modern day fairy tale   \n",
       "423                                         FANTASTIC!   \n",
       "\n",
       "                                                  Text  \\\n",
       "0    this witty little book makes my son laugh at l...   \n",
       "30   I can remember seeing the show when it aired o...   \n",
       "424  Beetlejuice is a well written movie ..... ever...   \n",
       "330  A twist of rumplestiskin captured on film, sta...   \n",
       "423  Beetlejuice is an excellent and funny movie. K...   \n",
       "\n",
       "                                           CleanedText  \n",
       "0    witti littl book make son laugh loud recit car...  \n",
       "30   rememb see show air televis year ago child sis...  \n",
       "424  beetlejuic well written movi everyth excel act...  \n",
       "330  twist rumplestiskin captur film star michael k...  \n",
       "423  beetlejuic excel funni movi keaton hilari wack...  "
      ]
     },
     "execution_count": 11,
     "metadata": {},
     "output_type": "execute_result"
    }
   ],
   "source": [
    "df_time_sorted.head()"
   ]
  },
  {
   "cell_type": "markdown",
   "metadata": {},
   "source": [
    "The important piece of information from dataset for building ML models are text reviews and their Scores if they are positive or negative so lets seperate only those two columns into a seperate dataframe using pandas"
   ]
  },
  {
   "cell_type": "code",
   "execution_count": 12,
   "metadata": {},
   "outputs": [
    {
     "data": {
      "text/html": [
       "<div>\n",
       "<style scoped>\n",
       "    .dataframe tbody tr th:only-of-type {\n",
       "        vertical-align: middle;\n",
       "    }\n",
       "\n",
       "    .dataframe tbody tr th {\n",
       "        vertical-align: top;\n",
       "    }\n",
       "\n",
       "    .dataframe thead th {\n",
       "        text-align: right;\n",
       "    }\n",
       "</style>\n",
       "<table border=\"1\" class=\"dataframe\">\n",
       "  <thead>\n",
       "    <tr style=\"text-align: right;\">\n",
       "      <th></th>\n",
       "      <th>CleanedText</th>\n",
       "      <th>Score</th>\n",
       "    </tr>\n",
       "  </thead>\n",
       "  <tbody>\n",
       "    <tr>\n",
       "      <th>0</th>\n",
       "      <td>witti littl book make son laugh loud recit car...</td>\n",
       "      <td>1</td>\n",
       "    </tr>\n",
       "    <tr>\n",
       "      <th>1</th>\n",
       "      <td>grew read sendak book watch realli rosi movi i...</td>\n",
       "      <td>1</td>\n",
       "    </tr>\n",
       "    <tr>\n",
       "      <th>2</th>\n",
       "      <td>fun way children learn month year learn poem t...</td>\n",
       "      <td>1</td>\n",
       "    </tr>\n",
       "    <tr>\n",
       "      <th>3</th>\n",
       "      <td>great littl book read nice rhythm well good re...</td>\n",
       "      <td>1</td>\n",
       "    </tr>\n",
       "    <tr>\n",
       "      <th>4</th>\n",
       "      <td>book poetri month year goe month cute littl po...</td>\n",
       "      <td>1</td>\n",
       "    </tr>\n",
       "  </tbody>\n",
       "</table>\n",
       "</div>"
      ],
      "text/plain": [
       "                                         CleanedText  Score\n",
       "0  witti littl book make son laugh loud recit car...      1\n",
       "1  grew read sendak book watch realli rosi movi i...      1\n",
       "2  fun way children learn month year learn poem t...      1\n",
       "3  great littl book read nice rhythm well good re...      1\n",
       "4  book poetri month year goe month cute littl po...      1"
      ]
     },
     "execution_count": 12,
     "metadata": {},
     "output_type": "execute_result"
    }
   ],
   "source": [
    "df = pd.DataFrame(data, columns=['CleanedText', 'Score'])\n",
    "df.head()"
   ]
  },
  {
   "cell_type": "code",
   "execution_count": 13,
   "metadata": {},
   "outputs": [
    {
     "data": {
      "text/plain": [
       "(364171, 2)"
      ]
     },
     "execution_count": 13,
     "metadata": {},
     "output_type": "execute_result"
    }
   ],
   "source": [
    "#lets check the total dataset values\n",
    "df.shape"
   ]
  },
  {
   "cell_type": "code",
   "execution_count": 14,
   "metadata": {},
   "outputs": [
    {
     "name": "stdout",
     "output_type": "stream",
     "text": [
      "Number of +ve & -ve datapoints \n",
      " 1    307061\n",
      "0     57110\n",
      "Name: Score, dtype: int64\n"
     ]
    },
    {
     "data": {
      "text/plain": [
       "<matplotlib.axes._subplots.AxesSubplot at 0x2990e54f1d0>"
      ]
     },
     "execution_count": 14,
     "metadata": {},
     "output_type": "execute_result"
    },
    {
     "data": {
      "image/png": "[encoded data removed]",
      "text/plain": [
       "<Figure size 432x288 with 1 Axes>"
      ]
     },
     "metadata": {},
     "output_type": "display_data"
    }
   ],
   "source": [
    "df_sample = df\n",
    "print ('Number of +ve & -ve datapoints \\n' ,df_sample['Score'].value_counts())\n",
    "df_sample['Score'].value_counts().plot(kind='bar')"
   ]
  },
  {
   "cell_type": "code",
   "execution_count": 15,
   "metadata": {},
   "outputs": [
    {
     "name": "stdout",
     "output_type": "stream",
     "text": [
      "(364171,)\n",
      "(364171,)\n"
     ]
    }
   ],
   "source": [
    "X = df_sample['CleanedText']\n",
    "y = df_sample['Score']\n",
    "print (X.shape)\n",
    "print (y.shape)"
   ]
  },
  {
   "cell_type": "markdown",
   "metadata": {},
   "source": [
    "###### Since the data is time based. we split the data into test-train in temporal manner and not random. where first 80% of data is taken into train and rest 20% into test.\n",
    "\n",
    "###### To achieve this in test_train_split we use shuffle=False. so the data doesnt split in random manner."
   ]
  },
  {
   "cell_type": "code",
   "execution_count": 16,
   "metadata": {},
   "outputs": [
    {
     "name": "stdout",
     "output_type": "stream",
     "text": [
      "X_train shape : (254919,)\n",
      "y_train shape : (254919,)\n",
      "X_test shape : (109252,)\n",
      "y_test shape : (109252,)\n"
     ]
    }
   ],
   "source": [
    "#test-train-split\n",
    "X_train, X_test, y_train, y_test = train_test_split(X, y, test_size=0.3,shuffle=False)\n",
    "print('X_train shape :' ,X_train.shape)\n",
    "print('y_train shape :' ,y_train.shape)\n",
    "print('X_test shape :' ,X_test.shape)\n",
    "print('y_test shape :' ,y_test.shape)"
   ]
  },
  {
   "cell_type": "code",
   "execution_count": 17,
   "metadata": {},
   "outputs": [
    {
     "data": {
      "text/plain": [
       "0    witti littl book make son laugh loud recit car...\n",
       "1    grew read sendak book watch realli rosi movi i...\n",
       "2    fun way children learn month year learn poem t...\n",
       "3    great littl book read nice rhythm well good re...\n",
       "4    book poetri month year goe month cute littl po...\n",
       "Name: CleanedText, dtype: object"
      ]
     },
     "execution_count": 17,
     "metadata": {},
     "output_type": "execute_result"
    }
   ],
   "source": [
    "X_train.head()"
   ]
  },
  {
   "cell_type": "code",
   "execution_count": 18,
   "metadata": {},
   "outputs": [
    {
     "data": {
      "text/plain": [
       "254914       havent found decaff serv challah one give rebb\n",
       "254915    purchas coffe base posit feedback either got b...\n",
       "254916    drank communiti coffe mani year recent becam c...\n",
       "254917    bought pack give other kept one tri glad great...\n",
       "254918    love communiti coffe yummi strong without grea...\n",
       "Name: CleanedText, dtype: object"
      ]
     },
     "execution_count": 18,
     "metadata": {},
     "output_type": "execute_result"
    }
   ],
   "source": [
    "X_train.tail()"
   ]
  },
  {
   "cell_type": "code",
   "execution_count": 19,
   "metadata": {},
   "outputs": [
    {
     "data": {
      "text/plain": [
       "254919    word want reduc caffienn brand best choic use ...\n",
       "254920    louisiana nativ like peopl louisiana drink com...\n",
       "254921    drink number brand coffe definit dont enjoy fi...\n",
       "254922    purchas great price amazon pleas flavor buddi ...\n",
       "254923    love coffe still block form fresh communiti co...\n",
       "Name: CleanedText, dtype: object"
      ]
     },
     "execution_count": 19,
     "metadata": {},
     "output_type": "execute_result"
    }
   ],
   "source": [
    "X_test.head()"
   ]
  },
  {
   "cell_type": "code",
   "execution_count": 20,
   "metadata": {},
   "outputs": [
    {
     "data": {
      "text/plain": [
       "254919    word want reduc caffienn brand best choic use ...\n",
       "254920    louisiana nativ like peopl louisiana drink com...\n",
       "254921    drink number brand coffe definit dont enjoy fi...\n",
       "254922    purchas great price amazon pleas flavor buddi ...\n",
       "254923    love coffe still block form fresh communiti co...\n",
       "Name: CleanedText, dtype: object"
      ]
     },
     "execution_count": 20,
     "metadata": {},
     "output_type": "execute_result"
    }
   ],
   "source": [
    "X_test.head()"
   ]
  },
  {
   "cell_type": "code",
   "execution_count": 21,
   "metadata": {},
   "outputs": [
    {
     "name": "stdout",
     "output_type": "stream",
     "text": [
      "(23179,) (23174,)\n",
      "(46353,) (23174,)\n",
      "(69527,) (23174,)\n",
      "(92701,) (23174,)\n",
      "(115875,) (23174,)\n",
      "(139049,) (23174,)\n",
      "(162223,) (23174,)\n",
      "(185397,) (23174,)\n",
      "(208571,) (23174,)\n",
      "(231745,) (23174,)\n"
     ]
    }
   ],
   "source": [
    "#get train and cv 10fold shapes\n",
    "cv= TimeSeriesSplit(n_splits=10)\n",
    "for train, cv in cv.split(X_train):\n",
    "    print(X_train[train].shape, X_train[cv].shape)"
   ]
  },
  {
   "cell_type": "markdown",
   "metadata": {},
   "source": [
    "# NAIVE-BAYES"
   ]
  },
  {
   "cell_type": "markdown",
   "metadata": {},
   "source": [
    "1. Naive bayes are based on principle of Conditional independence i.e each features(words) are completly independent to each other.\n",
    "\n",
    "2. Naive bayes classifier in SKlearn has two functions BernoulliNB() & MultinomialNB.\n",
    "\n",
    "3. BernoulliNB is used when word occurences are counted as binary (i.e if a word is present it gives value 1, if not present then 0). if CountVectorizer(binary=True), TfidfVectorizer(binary=True).\n",
    "\n",
    "4. MultinomialNB takes the number of occurences of words in documents. most generally MultinomialNB() is used in Naive-Bayes.\n",
    "\n",
    "5. word2vec fails drastically fails on Naive-Bayes since the words are sematically co-realted vectors."
   ]
  },
  {
   "cell_type": "markdown",
   "metadata": {},
   "source": [
    "# Functions to find Hyperparameter & Use Naive-Bayes"
   ]
  },
  {
   "cell_type": "code",
   "execution_count": 22,
   "metadata": {},
   "outputs": [],
   "source": [
    "#c=1/lambda, lambda = 0.001,0.002,0.01,0.02,0.1,0.2,1,2,10,20,100,200,1000,2000,10000. \n",
    "def MNB_best_params (X_train, y_train) :\n",
    "    clf = MultinomialNB()\n",
    "    cv= TimeSeriesSplit(n_splits=10)\n",
    "    param_grid = {'alpha':[1000,500,100,50,10,5,1,0.5,0.1,0.05,0.01,0.005,0.001,0.0005,0.0001]}\n",
    "    grid_cv = GridSearchCV(clf, param_grid, cv=cv, verbose=1, n_jobs=-1)\n",
    "    grid_cv.fit(X_train,y_train)\n",
    "    print(\"Best HyperParameter: \",grid_cv.best_params_)\n",
    "    print(\"Best Accuracy: \", (grid_cv.best_score_*100))\n",
    "    #Function for cv_error vs alpha plot\n",
    "    plt.figure(figsize=(10,6))\n",
    "    plt.xlabel('Alpha in NB')\n",
    "    plt.ylabel('Best Score')\n",
    "    plt.plot(param_grid['alpha'], grid_cv.cv_results_['mean_test_score'], marker='o',markerfacecolor='green', markersize=10)"
   ]
  },
  {
   "cell_type": "code",
   "execution_count": 23,
   "metadata": {},
   "outputs": [],
   "source": [
    "def MNB(alpha, X_train, y_train, X_test, Y_test) :\n",
    "    clf = BernoulliNB(alpha=alpha)\n",
    "    clf.fit(X_train, y_train)\n",
    "    y_pred = clf.predict(X_test)\n",
    "    print(\"Accuracy: \", (metrics.accuracy_score(y_test, y_pred)*100))\n",
    "    print(\"F1-Score: \",round(f1_score(y_test, y_pred) * float(100)))\n",
    "    print(\"Precision-Score: \",round(precision_score(y_test, y_pred) * float(100)))\n",
    "    print(\"Recall-Score : \",round(recall_score(y_test, y_pred) * float(100)))\n",
    "    cm = confusion_matrix(y_test, y_pred)\n",
    "    sns.heatmap(cm, annot=True, fmt='d')"
   ]
  },
  {
   "cell_type": "markdown",
   "metadata": {},
   "source": [
    "# BAG of WORDS"
   ]
  },
  {
   "cell_type": "code",
   "execution_count": 24,
   "metadata": {},
   "outputs": [],
   "source": [
    "vect = CountVectorizer()"
   ]
  },
  {
   "cell_type": "code",
   "execution_count": 25,
   "metadata": {},
   "outputs": [
    {
     "data": {
      "text/plain": [
       "<254919x59601 sparse matrix of type '<class 'numpy.float64'>'\n",
       "\twith 7863068 stored elements in Compressed Sparse Row format>"
      ]
     },
     "execution_count": 25,
     "metadata": {},
     "output_type": "execute_result"
    }
   ],
   "source": [
    "from sklearn import preprocessing\n",
    "bow_X_train = vect.fit_transform(X_train)\n",
    "bow_X_train = preprocessing.normalize(bow_X_train)\n",
    "bow_X_train"
   ]
  },
  {
   "cell_type": "code",
   "execution_count": 26,
   "metadata": {},
   "outputs": [
    {
     "data": {
      "text/plain": [
       "<109252x59601 sparse matrix of type '<class 'numpy.float64'>'\n",
       "\twith 3581565 stored elements in Compressed Sparse Row format>"
      ]
     },
     "execution_count": 26,
     "metadata": {},
     "output_type": "execute_result"
    }
   ],
   "source": [
    "bow_X_test = vect.transform(X_test)\n",
    "bow_X_test = preprocessing.normalize(bow_X_test)\n",
    "bow_X_test"
   ]
  },
  {
   "cell_type": "code",
   "execution_count": 27,
   "metadata": {},
   "outputs": [
    {
     "name": "stdout",
     "output_type": "stream",
     "text": [
      "Fitting 10 folds for each of 15 candidates, totalling 150 fits\n"
     ]
    },
    {
     "name": "stderr",
     "output_type": "stream",
     "text": [
      "[Parallel(n_jobs=-1)]: Done  26 tasks      | elapsed:   12.9s\n",
      "[Parallel(n_jobs=-1)]: Done 150 out of 150 | elapsed:   43.4s finished\n"
     ]
    },
    {
     "name": "stdout",
     "output_type": "stream",
     "text": [
      "Best HyperParameter:  {'alpha': 0.005}\n",
      "Best Accuracy:  87.46051609562441\n"
     ]
    },
    {
     "data": {
      "image/png": "[encoded data removed]",
      "text/plain": [
       "<Figure size 720x432 with 1 Axes>"
      ]
     },
     "metadata": {},
     "output_type": "display_data"
    }
   ],
   "source": [
    "MNB_best_params(bow_X_train, y_train)"
   ]
  },
  {
   "cell_type": "code",
   "execution_count": 28,
   "metadata": {
    "scrolled": false
   },
   "outputs": [
    {
     "name": "stdout",
     "output_type": "stream",
     "text": [
      "Accuracy:  88.08717460549921\n",
      "F1-Score:  93.0\n",
      "Precision-Score:  92.0\n",
      "Recall-Score :  93.0\n"
     ]
    },
    {
     "data": {
      "image/png": "[encoded data removed]",
      "text/plain": [
       "<Figure size 432x288 with 2 Axes>"
      ]
     },
     "metadata": {},
     "output_type": "display_data"
    }
   ],
   "source": [
    "MNB(0.005, bow_X_train, y_train, bow_X_test, y_test)"
   ]
  },
  {
   "cell_type": "code",
   "execution_count": 33,
   "metadata": {},
   "outputs": [],
   "source": [
    "### Most Important Features"
   ]
  },
  {
   "cell_type": "code",
   "execution_count": 35,
   "metadata": {
    "scrolled": true
   },
   "outputs": [
    {
     "name": "stdout",
     "output_type": "stream",
     "text": [
      "\t\t\tNegative\t\t\t\t\t\tPositive\n",
      "________________________________________________________________________________________________\n",
      "\t-10.4069\taachen         \t\t\t\t-1.2896\tlove           \n",
      "\t-10.4069\tabbrevi        \t\t\t\t-1.2964\tlike           \n",
      "\t-10.4069\taberr          \t\t\t\t-1.3265\tgreat          \n",
      "\t-10.4069\tabouit         \t\t\t\t-1.3415\ttast           \n",
      "\t-10.4069\tacc            \t\t\t\t-1.3606\tgood           \n",
      "\t-10.4069\taccusatori     \t\t\t\t-1.3710\tuse            \n",
      "\t-10.4069\tacknowleg      \t\t\t\t-1.5057\tone            \n",
      "\t-10.4069\tactal          \t\t\t\t-1.5501\tproduct        \n",
      "\t-10.4069\taddag          \t\t\t\t-1.5862\ttri            \n",
      "\t-10.4069\taddicitv       \t\t\t\t-1.6016\tflavor         \n",
      "\t-10.4069\tadio           \t\t\t\t-1.6240\tmake           \n",
      "\t-10.4069\tadovada        \t\t\t\t-1.6878\tget            \n",
      "\t-10.4069\tadress         \t\t\t\t-1.8521\ttime           \n",
      "\t-10.4069\tadver          \t\t\t\t-1.9693\tbest           \n",
      "\t-10.4069\tadverag        \t\t\t\t-1.9821\tbuy            \n",
      "\t-10.4069\tadversis       \t\t\t\t-1.9868\tfind           \n",
      "\t-10.4069\tadvertiz       \t\t\t\t-1.9897\ttea            \n",
      "\t-10.4069\taegean         \t\t\t\t-2.0219\trealli         \n",
      "\t-10.4069\taer            \t\t\t\t-2.0334\tmuch           \n",
      "\t-10.4069\tafer           \t\t\t\t-2.0352\twould          \n",
      "\t-10.4069\taffront        \t\t\t\t-2.0450\talso           \n",
      "\t-10.4069\tafi            \t\t\t\t-2.0896\twell           \n",
      "\t-10.4069\taftercar       \t\t\t\t-2.0926\tdont           \n",
      "\t-10.4069\tagribusi       \t\t\t\t-2.1278\tstore          \n",
      "\t-10.4069\tahora          \t\t\t\t-2.1328\teat            \n"
     ]
    }
   ],
   "source": [
    "bow_1 = CountVectorizer()\n",
    "bow_2 = bow_1.fit_transform(X_train.values)\n",
    "def show_most_informative_features(vectorizer, clf, n=25):\n",
    "    feature_names = vectorizer.get_feature_names()\n",
    "    coefs_with_fns = sorted(zip(clf.coef_[0], feature_names))\n",
    "    top = zip(coefs_with_fns[:n], coefs_with_fns[:-(n + 1):-1])\n",
    "    print(\"\\t\\t\\tNegative\\t\\t\\t\\t\\t\\tPositive\")\n",
    "    print(\"________________________________________________________________________________________________\")\n",
    "    for (coef_1, fn_1), (coef_2, fn_2) in top:\n",
    "        print(\"\\t%.4f\\t%-15s\\t\\t\\t\\t%.4f\\t%-15s\" % (coef_1, fn_1, coef_2, fn_2))\n",
    "        \n",
    "show_most_informative_features(bow_1,NB)\n",
    "#Code Reference:https://stackoverflow.com/questions/11116697/how-to-get-most-informative-features-for-scikit-learn-classifiers"
   ]
  },
  {
   "cell_type": "markdown",
   "metadata": {},
   "source": [
    "# TFIDF"
   ]
  },
  {
   "cell_type": "code",
   "execution_count": 29,
   "metadata": {},
   "outputs": [],
   "source": [
    "vect = TfidfVectorizer()"
   ]
  },
  {
   "cell_type": "code",
   "execution_count": 30,
   "metadata": {},
   "outputs": [
    {
     "data": {
      "text/plain": [
       "<254919x59601 sparse matrix of type '<class 'numpy.float64'>'\n",
       "\twith 7863068 stored elements in Compressed Sparse Row format>"
      ]
     },
     "execution_count": 30,
     "metadata": {},
     "output_type": "execute_result"
    }
   ],
   "source": [
    "from sklearn import preprocessing\n",
    "tfidf_X_train = vect.fit_transform(X_train)\n",
    "tfidf_X_train = preprocessing.normalize(tfidf_X_train)\n",
    "tfidf_X_train"
   ]
  },
  {
   "cell_type": "code",
   "execution_count": 31,
   "metadata": {},
   "outputs": [
    {
     "data": {
      "text/plain": [
       "<109252x59601 sparse matrix of type '<class 'numpy.float64'>'\n",
       "\twith 3581565 stored elements in Compressed Sparse Row format>"
      ]
     },
     "execution_count": 31,
     "metadata": {},
     "output_type": "execute_result"
    }
   ],
   "source": [
    "tfidf_X_test = vect.transform(X_test)\n",
    "tfidf_X_test = preprocessing.normalize(tfidf_X_test)\n",
    "tfidf_X_test"
   ]
  },
  {
   "cell_type": "code",
   "execution_count": 32,
   "metadata": {},
   "outputs": [
    {
     "name": "stdout",
     "output_type": "stream",
     "text": [
      "Fitting 10 folds for each of 15 candidates, totalling 150 fits\n"
     ]
    },
    {
     "name": "stderr",
     "output_type": "stream",
     "text": [
      "[Parallel(n_jobs=-1)]: Done  26 tasks      | elapsed:   12.7s\n",
      "[Parallel(n_jobs=-1)]: Done 150 out of 150 | elapsed:   43.9s finished\n"
     ]
    },
    {
     "name": "stdout",
     "output_type": "stream",
     "text": [
      "Best HyperParameter:  {'alpha': 0.01}\n",
      "Best Accuracy:  87.77164063174247\n"
     ]
    },
    {
     "data": {
      "image/png": "[encoded data removed]",
      "text/plain": [
       "<Figure size 720x432 with 1 Axes>"
      ]
     },
     "metadata": {},
     "output_type": "display_data"
    }
   ],
   "source": [
    "MNB_best_params(tfidf_X_train, y_train)"
   ]
  },
  {
   "cell_type": "code",
   "execution_count": 33,
   "metadata": {},
   "outputs": [
    {
     "name": "stdout",
     "output_type": "stream",
     "text": [
      "Accuracy:  88.12653315271116\n",
      "F1-Score:  93.0\n",
      "Precision-Score:  93.0\n",
      "Recall-Score :  93.0\n"
     ]
    },
    {
     "data": {
      "image/png": "[encoded data removed]",
      "text/plain": [
       "<Figure size 432x288 with 2 Axes>"
      ]
     },
     "metadata": {},
     "output_type": "display_data"
    }
   ],
   "source": [
    "MNB(0.01, tfidf_X_train, y_train, tfidf_X_test, y_test)"
   ]
  },
  {
   "cell_type": "markdown",
   "metadata": {},
   "source": [
    "### TFIDF most important features"
   ]
  },
  {
   "cell_type": "code",
   "execution_count": 34,
   "metadata": {
    "scrolled": true
   },
   "outputs": [
    {
     "name": "stdout",
     "output_type": "stream",
     "text": [
      "\t\t\tNegative\t\t\t\t\t\tPositive\n",
      "________________________________________________________________________________________________\n",
      "\t-10.4069\taachen         \t\t\t\t-1.2896\tlove           \n",
      "\t-10.4069\tabbrevi        \t\t\t\t-1.2964\tlike           \n",
      "\t-10.4069\taberr          \t\t\t\t-1.3265\tgreat          \n",
      "\t-10.4069\tabouit         \t\t\t\t-1.3415\ttast           \n",
      "\t-10.4069\tacc            \t\t\t\t-1.3606\tgood           \n",
      "\t-10.4069\taccusatori     \t\t\t\t-1.3710\tuse            \n",
      "\t-10.4069\tacknowleg      \t\t\t\t-1.5057\tone            \n",
      "\t-10.4069\tactal          \t\t\t\t-1.5501\tproduct        \n",
      "\t-10.4069\taddag          \t\t\t\t-1.5862\ttri            \n",
      "\t-10.4069\taddicitv       \t\t\t\t-1.6016\tflavor         \n",
      "\t-10.4069\tadio           \t\t\t\t-1.6240\tmake           \n",
      "\t-10.4069\tadovada        \t\t\t\t-1.6878\tget            \n",
      "\t-10.4069\tadress         \t\t\t\t-1.8521\ttime           \n",
      "\t-10.4069\tadver          \t\t\t\t-1.9693\tbest           \n",
      "\t-10.4069\tadverag        \t\t\t\t-1.9821\tbuy            \n",
      "\t-10.4069\tadversis       \t\t\t\t-1.9868\tfind           \n",
      "\t-10.4069\tadvertiz       \t\t\t\t-1.9897\ttea            \n",
      "\t-10.4069\taegean         \t\t\t\t-2.0219\trealli         \n",
      "\t-10.4069\taer            \t\t\t\t-2.0334\tmuch           \n",
      "\t-10.4069\tafer           \t\t\t\t-2.0352\twould          \n",
      "\t-10.4069\taffront        \t\t\t\t-2.0450\talso           \n",
      "\t-10.4069\tafi            \t\t\t\t-2.0896\twell           \n",
      "\t-10.4069\taftercar       \t\t\t\t-2.0926\tdont           \n",
      "\t-10.4069\tagribusi       \t\t\t\t-2.1278\tstore          \n",
      "\t-10.4069\tahora          \t\t\t\t-2.1328\teat            \n"
     ]
    }
   ],
   "source": [
    "tfidf_1 = TfidfVectorizer()\n",
    "tfidf_2 = tfidf_1.fit_transform(X_train.values)\n",
    "def show_most_informative_features(vectorizer, clf, n=25):\n",
    "    feature_names = vectorizer.get_feature_names()\n",
    "    coefs_with_fns = sorted(zip(clf.coef_[0], feature_names))\n",
    "    top = zip(coefs_with_fns[:n], coefs_with_fns[:-(n + 1):-1])\n",
    "    print(\"\\t\\t\\tNegative\\t\\t\\t\\t\\t\\tPositive\")\n",
    "    print(\"________________________________________________________________________________________________\")\n",
    "    for (coef_1, fn_1), (coef_2, fn_2) in top:\n",
    "        print(\"\\t%.4f\\t%-15s\\t\\t\\t\\t%.4f\\t%-15s\" % (coef_1, fn_1, coef_2, fn_2))\n",
    "        \n",
    "show_most_informative_features(tfidf_1,NB)\n",
    "#Code Reference:https://stackoverflow.com/questions/11116697/how-to-get-most-informative-features-for-scikit-learn-classifiers"
   ]
  },
  {
   "cell_type": "markdown",
   "metadata": {},
   "source": [
    "# NAIVE-BAYES WITH BERNOULLINB()"
   ]
  },
  {
   "cell_type": "code",
   "execution_count": 34,
   "metadata": {},
   "outputs": [],
   "source": [
    "#c=1/lambda, lambda = 0.001,0.002,0.01,0.02,0.1,0.2,1,2,10,20,100,200,1000,2000,10000. \n",
    "def NB_best_params (X_train, y_train) :\n",
    "    clf = BernoulliNB()\n",
    "    cv= TimeSeriesSplit(n_splits=10)\n",
    "    param_grid = {'alpha':[1000,500,100,50,10,5,1,0.5,0.1,0.05,0.01,0.005,0.001,0.0005,0.0001]}\n",
    "    grid_cv = GridSearchCV(clf, param_grid, cv=cv, verbose=1, n_jobs=-1)\n",
    "    grid_cv.fit(X_train,y_train)\n",
    "    print(\"Best HyperParameter: \",grid_cv.best_params_)\n",
    "    print(\"Best Accuracy: \", (grid_cv.best_score_*100))\n",
    "    #Function for cv_error vs alpha plot\n",
    "    plt.figure(figsize=(10,6))\n",
    "    plt.xlabel('Alpha in NB')\n",
    "    plt.ylabel('Best Score')\n",
    "    plt.plot(param_grid['alpha'], grid_cv.cv_results_['mean_test_score'], marker='o',markerfacecolor='green', markersize=10)"
   ]
  },
  {
   "cell_type": "code",
   "execution_count": 35,
   "metadata": {},
   "outputs": [],
   "source": [
    "def NB(alpha, X_train, y_train, X_test, Y_test) :\n",
    "    clf = BernoulliNB(alpha=alpha)\n",
    "    clf.fit(X_train, y_train)\n",
    "    y_pred = clf.predict(X_test)\n",
    "    print(\"Accuracy: \", (metrics.accuracy_score(y_test, y_pred)*100))\n",
    "    print(\"F1-Score: \",round(f1_score(y_test, y_pred) * float(100)))\n",
    "    print(\"Precision-Score: \",round(precision_score(y_test, y_pred) * float(100)))\n",
    "    print(\"Recall-Score : \",round(recall_score(y_test, y_pred) * float(100)))\n",
    "    cm = confusion_matrix(y_test, y_pred)\n",
    "    sns.heatmap(cm, annot=True, fmt='d')"
   ]
  },
  {
   "cell_type": "markdown",
   "metadata": {},
   "source": [
    "# BAG of WORDS"
   ]
  },
  {
   "cell_type": "code",
   "execution_count": 36,
   "metadata": {},
   "outputs": [],
   "source": [
    "vect = CountVectorizer(binary=True)"
   ]
  },
  {
   "cell_type": "code",
   "execution_count": 37,
   "metadata": {},
   "outputs": [
    {
     "data": {
      "text/plain": [
       "<254919x59601 sparse matrix of type '<class 'numpy.float64'>'\n",
       "\twith 7863068 stored elements in Compressed Sparse Row format>"
      ]
     },
     "execution_count": 37,
     "metadata": {},
     "output_type": "execute_result"
    }
   ],
   "source": [
    "from sklearn import preprocessing\n",
    "bow_X_train = vect.fit_transform(X_train)\n",
    "bow_X_train = preprocessing.normalize(bow_X_train)\n",
    "bow_X_train"
   ]
  },
  {
   "cell_type": "code",
   "execution_count": 38,
   "metadata": {},
   "outputs": [
    {
     "data": {
      "text/plain": [
       "<109252x59601 sparse matrix of type '<class 'numpy.float64'>'\n",
       "\twith 3581565 stored elements in Compressed Sparse Row format>"
      ]
     },
     "execution_count": 38,
     "metadata": {},
     "output_type": "execute_result"
    }
   ],
   "source": [
    "bow_X_test = vect.transform(X_test)\n",
    "bow_X_test = preprocessing.normalize(bow_X_test)\n",
    "bow_X_test"
   ]
  },
  {
   "cell_type": "code",
   "execution_count": 39,
   "metadata": {},
   "outputs": [
    {
     "name": "stdout",
     "output_type": "stream",
     "text": [
      "Fitting 10 folds for each of 15 candidates, totalling 150 fits\n"
     ]
    },
    {
     "name": "stderr",
     "output_type": "stream",
     "text": [
      "[Parallel(n_jobs=-1)]: Done  26 tasks      | elapsed:   14.2s\n",
      "[Parallel(n_jobs=-1)]: Done 150 out of 150 | elapsed:   48.3s finished\n"
     ]
    },
    {
     "name": "stdout",
     "output_type": "stream",
     "text": [
      "Best HyperParameter:  {'alpha': 0.05}\n",
      "Best Accuracy:  88.44869250021577\n"
     ]
    },
    {
     "data": {
      "image/png": "[encoded data removed]",
      "text/plain": [
       "<Figure size 720x432 with 1 Axes>"
      ]
     },
     "metadata": {},
     "output_type": "display_data"
    }
   ],
   "source": [
    "NB_best_params(bow_X_train, y_train)"
   ]
  },
  {
   "cell_type": "code",
   "execution_count": 40,
   "metadata": {
    "scrolled": false
   },
   "outputs": [
    {
     "name": "stdout",
     "output_type": "stream",
     "text": [
      "Accuracy:  88.10914216673379\n",
      "F1-Score:  93.0\n",
      "Precision-Score:  93.0\n",
      "Recall-Score :  93.0\n"
     ]
    },
    {
     "data": {
      "image/png": "[encoded data removed]",
      "text/plain": [
       "<Figure size 432x288 with 2 Axes>"
      ]
     },
     "metadata": {},
     "output_type": "display_data"
    }
   ],
   "source": [
    "NB(0.05, bow_X_train, y_train, bow_X_test, y_test)"
   ]
  },
  {
   "cell_type": "markdown",
   "metadata": {},
   "source": [
    "# TFIDF"
   ]
  },
  {
   "cell_type": "code",
   "execution_count": 41,
   "metadata": {},
   "outputs": [],
   "source": [
    "vect = TfidfVectorizer(binary=True)"
   ]
  },
  {
   "cell_type": "code",
   "execution_count": 42,
   "metadata": {},
   "outputs": [
    {
     "data": {
      "text/plain": [
       "<254919x59601 sparse matrix of type '<class 'numpy.float64'>'\n",
       "\twith 7863068 stored elements in Compressed Sparse Row format>"
      ]
     },
     "execution_count": 42,
     "metadata": {},
     "output_type": "execute_result"
    }
   ],
   "source": [
    "from sklearn import preprocessing\n",
    "tfidf_X_train = vect.fit_transform(X_train)\n",
    "tfidf_X_train = preprocessing.normalize(tfidf_X_train)\n",
    "tfidf_X_train"
   ]
  },
  {
   "cell_type": "code",
   "execution_count": 43,
   "metadata": {},
   "outputs": [
    {
     "data": {
      "text/plain": [
       "<109252x59601 sparse matrix of type '<class 'numpy.float64'>'\n",
       "\twith 3581565 stored elements in Compressed Sparse Row format>"
      ]
     },
     "execution_count": 43,
     "metadata": {},
     "output_type": "execute_result"
    }
   ],
   "source": [
    "tfidf_X_test = vect.transform(X_test)\n",
    "tfidf_X_test = preprocessing.normalize(tfidf_X_test)\n",
    "tfidf_X_test"
   ]
  },
  {
   "cell_type": "code",
   "execution_count": 44,
   "metadata": {},
   "outputs": [
    {
     "name": "stdout",
     "output_type": "stream",
     "text": [
      "Fitting 10 folds for each of 15 candidates, totalling 150 fits\n"
     ]
    },
    {
     "name": "stderr",
     "output_type": "stream",
     "text": [
      "[Parallel(n_jobs=-1)]: Done  26 tasks      | elapsed:   13.2s\n",
      "[Parallel(n_jobs=-1)]: Done 150 out of 150 | elapsed:   45.4s finished\n"
     ]
    },
    {
     "name": "stdout",
     "output_type": "stream",
     "text": [
      "Best HyperParameter:  {'alpha': 0.05}\n",
      "Best Accuracy:  88.44869250021577\n"
     ]
    },
    {
     "data": {
      "image/png": "[encoded data removed]",
      "text/plain": [
       "<Figure size 720x432 with 1 Axes>"
      ]
     },
     "metadata": {},
     "output_type": "display_data"
    }
   ],
   "source": [
    "NB_best_params(tfidf_X_train, y_train)"
   ]
  },
  {
   "cell_type": "code",
   "execution_count": 45,
   "metadata": {},
   "outputs": [
    {
     "name": "stdout",
     "output_type": "stream",
     "text": [
      "Accuracy:  88.10914216673379\n",
      "F1-Score:  93.0\n",
      "Precision-Score:  93.0\n",
      "Recall-Score :  93.0\n"
     ]
    },
    {
     "data": {
      "image/png": "[encoded data removed]",
      "text/plain": [
       "<Figure size 432x288 with 2 Axes>"
      ]
     },
     "metadata": {},
     "output_type": "display_data"
    }
   ],
   "source": [
    "NB(0.05, tfidf_X_train, y_train, tfidf_X_test, y_test)"
   ]
  },
  {
   "cell_type": "markdown",
   "metadata": {},
   "source": [
    "# Feature Imporatnce"
   ]
  },
  {
   "cell_type": "code",
   "execution_count": 164,
   "metadata": {},
   "outputs": [
    {
     "data": {
      "text/plain": [
       "MultinomialNB(alpha=0.005, class_prior=None, fit_prior=True)"
      ]
     },
     "execution_count": 164,
     "metadata": {},
     "output_type": "execute_result"
    }
   ],
   "source": [
    "nb = MultinomialNB(alpha=0.005)\n",
    "nb.fit(bow_X_train, y_train)"
   ]
  },
  {
   "cell_type": "code",
   "execution_count": 165,
   "metadata": {},
   "outputs": [
    {
     "data": {
      "text/plain": [
       "['aa',\n",
       " 'aaa',\n",
       " 'aaaa',\n",
       " 'aaaaaaaaaaaaaaaaaaaaaaaaaaaaaaaaaaaaaaaaaaaa',\n",
       " 'aaaaaaaaaaaaaaaaaaaargh',\n",
       " 'aaaaaaaaagghh',\n",
       " 'aaaaaaarrrrrggghhh',\n",
       " 'aaaaaah',\n",
       " 'aaaaaahhhhhyaaaaaa',\n",
       " 'aaaaaand']"
      ]
     },
     "execution_count": 165,
     "metadata": {},
     "output_type": "execute_result"
    }
   ],
   "source": [
    "#get first 10 features\n",
    "vect.get_feature_names()[:10]"
   ]
  },
  {
   "cell_type": "code",
   "execution_count": 166,
   "metadata": {},
   "outputs": [
    {
     "data": {
      "text/plain": [
       "['bewteen',\n",
       " 'bewtter',\n",
       " 'beyon',\n",
       " 'beyond',\n",
       " 'beyondhealth',\n",
       " 'beyound',\n",
       " 'bezo',\n",
       " 'bezzera',\n",
       " 'bfast',\n",
       " 'bff']"
      ]
     },
     "execution_count": 166,
     "metadata": {},
     "output_type": "execute_result"
    }
   ],
   "source": [
    "#get all features\n",
    "vect.get_feature_names()[4990:5000]"
   ]
  },
  {
   "cell_type": "code",
   "execution_count": 167,
   "metadata": {},
   "outputs": [
    {
     "data": {
      "text/plain": [
       "array([[0.        , 0.10846523, 0.        , ..., 0.        , 0.        ,\n",
       "        0.        ],\n",
       "       [0.18390036, 1.85169547, 0.17149859, ..., 0.21821789, 0.21821789,\n",
       "        0.18569534]])"
      ]
     },
     "execution_count": 167,
     "metadata": {},
     "output_type": "execute_result"
    }
   ],
   "source": [
    "# number of times a word occur in each class\n",
    "nb.feature_count_"
   ]
  },
  {
   "cell_type": "code",
   "execution_count": 168,
   "metadata": {},
   "outputs": [
    {
     "data": {
      "text/plain": [
       "array([0.        , 0.10846523, 0.        , ..., 0.        , 0.        ,\n",
       "       0.        ])"
      ]
     },
     "execution_count": 168,
     "metadata": {},
     "output_type": "execute_result"
    }
   ],
   "source": [
    "# number of times a word occur in negative class\n",
    "negative = nb.feature_count_[0]\n",
    "negative\n"
   ]
  },
  {
   "cell_type": "code",
   "execution_count": 169,
   "metadata": {},
   "outputs": [
    {
     "data": {
      "text/plain": [
       "array([0.18390036, 1.85169547, 0.17149859, ..., 0.21821789, 0.21821789,\n",
       "       0.18569534])"
      ]
     },
     "execution_count": 169,
     "metadata": {},
     "output_type": "execute_result"
    }
   ],
   "source": [
    "# number of times a word occur in positive class\n",
    "positive = nb.feature_count_[1]\n",
    "positive"
   ]
  },
  {
   "cell_type": "code",
   "execution_count": 170,
   "metadata": {},
   "outputs": [
    {
     "data": {
      "text/html": [
       "<div>\n",
       "<style scoped>\n",
       "    .dataframe tbody tr th:only-of-type {\n",
       "        vertical-align: middle;\n",
       "    }\n",
       "\n",
       "    .dataframe tbody tr th {\n",
       "        vertical-align: top;\n",
       "    }\n",
       "\n",
       "    .dataframe thead th {\n",
       "        text-align: right;\n",
       "    }\n",
       "</style>\n",
       "<table border=\"1\" class=\"dataframe\">\n",
       "  <thead>\n",
       "    <tr style=\"text-align: right;\">\n",
       "      <th></th>\n",
       "      <th>words</th>\n",
       "      <th>negative</th>\n",
       "      <th>positive</th>\n",
       "    </tr>\n",
       "  </thead>\n",
       "  <tbody>\n",
       "    <tr>\n",
       "      <th>0</th>\n",
       "      <td>aa</td>\n",
       "      <td>0.000000</td>\n",
       "      <td>0.183900</td>\n",
       "    </tr>\n",
       "    <tr>\n",
       "      <th>1</th>\n",
       "      <td>aaa</td>\n",
       "      <td>0.108465</td>\n",
       "      <td>1.851695</td>\n",
       "    </tr>\n",
       "    <tr>\n",
       "      <th>2</th>\n",
       "      <td>aaaa</td>\n",
       "      <td>0.000000</td>\n",
       "      <td>0.171499</td>\n",
       "    </tr>\n",
       "    <tr>\n",
       "      <th>3</th>\n",
       "      <td>aaaaaaaaaaaaaaaaaaaaaaaaaaaaaaaaaaaaaaaaaaaa</td>\n",
       "      <td>0.000000</td>\n",
       "      <td>0.250000</td>\n",
       "    </tr>\n",
       "    <tr>\n",
       "      <th>4</th>\n",
       "      <td>aaaaaaaaaaaaaaaaaaaargh</td>\n",
       "      <td>0.000000</td>\n",
       "      <td>0.149071</td>\n",
       "    </tr>\n",
       "  </tbody>\n",
       "</table>\n",
       "</div>"
      ],
      "text/plain": [
       "                                          words  negative  positive\n",
       "0                                            aa  0.000000  0.183900\n",
       "1                                           aaa  0.108465  1.851695\n",
       "2                                          aaaa  0.000000  0.171499\n",
       "3  aaaaaaaaaaaaaaaaaaaaaaaaaaaaaaaaaaaaaaaaaaaa  0.000000  0.250000\n",
       "4                       aaaaaaaaaaaaaaaaaaaargh  0.000000  0.149071"
      ]
     },
     "execution_count": 170,
     "metadata": {},
     "output_type": "execute_result"
    }
   ],
   "source": [
    "words = pd.DataFrame({'words': vect.get_feature_names(), 'negative': negative, 'positive': positive})\n",
    "words.head()"
   ]
  },
  {
   "cell_type": "code",
   "execution_count": 171,
   "metadata": {},
   "outputs": [
    {
     "name": "stdout",
     "output_type": "stream",
     "text": [
      "Positive: \n",
      " words         love\n",
      "negative    768.44\n",
      "positive     12488\n",
      "Name: 30590, dtype: object\n",
      "--------------------\n",
      "Negative: \n",
      " words          tast\n",
      "negative    3057.34\n",
      "positive    12155.8\n",
      "Name: 51562, dtype: object\n"
     ]
    }
   ],
   "source": [
    "# lets find #1 important word found in most of documents\n",
    "imp_positive_word = words.iloc[words['positive'].argmax()]\n",
    "imp_negative_word = words.iloc[words['negative'].argmax()]\n",
    "print('Positive: \\n' ,imp_positive_word)\n",
    "print('--'*10)\n",
    "print('Negative: \\n' ,imp_negative_word)"
   ]
  },
  {
   "cell_type": "code",
   "execution_count": 172,
   "metadata": {},
   "outputs": [
    {
     "name": "stdout",
     "output_type": "stream",
     "text": [
      "(59601, 1)\n",
      "(59601, 3)\n"
     ]
    },
    {
     "data": {
      "text/html": [
       "<div>\n",
       "<style scoped>\n",
       "    .dataframe tbody tr th:only-of-type {\n",
       "        vertical-align: middle;\n",
       "    }\n",
       "\n",
       "    .dataframe tbody tr th {\n",
       "        vertical-align: top;\n",
       "    }\n",
       "\n",
       "    .dataframe thead th {\n",
       "        text-align: right;\n",
       "    }\n",
       "</style>\n",
       "<table border=\"1\" class=\"dataframe\">\n",
       "  <thead>\n",
       "    <tr style=\"text-align: right;\">\n",
       "      <th></th>\n",
       "      <th>words</th>\n",
       "      <th>negative</th>\n",
       "      <th>positive</th>\n",
       "      <th>weights</th>\n",
       "    </tr>\n",
       "  </thead>\n",
       "  <tbody>\n",
       "    <tr>\n",
       "      <th>0</th>\n",
       "      <td>aa</td>\n",
       "      <td>0.000000</td>\n",
       "      <td>0.183900</td>\n",
       "      <td>-15.522352</td>\n",
       "    </tr>\n",
       "    <tr>\n",
       "      <th>1</th>\n",
       "      <td>aaa</td>\n",
       "      <td>0.108465</td>\n",
       "      <td>1.851695</td>\n",
       "      <td>-13.237018</td>\n",
       "    </tr>\n",
       "    <tr>\n",
       "      <th>2</th>\n",
       "      <td>aaaa</td>\n",
       "      <td>0.000000</td>\n",
       "      <td>0.171499</td>\n",
       "      <td>-15.590259</td>\n",
       "    </tr>\n",
       "    <tr>\n",
       "      <th>3</th>\n",
       "      <td>aaaaaaaaaaaaaaaaaaaaaaaaaaaaaaaaaaaaaaaaaaaa</td>\n",
       "      <td>0.000000</td>\n",
       "      <td>0.250000</td>\n",
       "      <td>-15.222308</td>\n",
       "    </tr>\n",
       "    <tr>\n",
       "      <th>4</th>\n",
       "      <td>aaaaaaaaaaaaaaaaaaaargh</td>\n",
       "      <td>0.000000</td>\n",
       "      <td>0.149071</td>\n",
       "      <td>-15.726157</td>\n",
       "    </tr>\n",
       "  </tbody>\n",
       "</table>\n",
       "</div>"
      ],
      "text/plain": [
       "                                          words  negative  positive    weights\n",
       "0                                            aa  0.000000  0.183900 -15.522352\n",
       "1                                           aaa  0.108465  1.851695 -13.237018\n",
       "2                                          aaaa  0.000000  0.171499 -15.590259\n",
       "3  aaaaaaaaaaaaaaaaaaaaaaaaaaaaaaaaaaaaaaaaaaaa  0.000000  0.250000 -15.222308\n",
       "4                       aaaaaaaaaaaaaaaaaaaargh  0.000000  0.149071 -15.726157"
      ]
     },
     "execution_count": 172,
     "metadata": {},
     "output_type": "execute_result"
    }
   ],
   "source": [
    "# lets add weights of each feature to dataframe\n",
    "w = nb.coef_\n",
    "print((w).T.shape)\n",
    "print(words.shape)\n",
    "words['weights'] = (w).T \n",
    "words.head()"
   ]
  },
  {
   "cell_type": "code",
   "execution_count": 173,
   "metadata": {},
   "outputs": [
    {
     "data": {
      "text/plain": [
       "words          love\n",
       "negative     768.44\n",
       "positive      12488\n",
       "weights    -4.42329\n",
       "Name: 30590, dtype: object"
      ]
     },
     "execution_count": 173,
     "metadata": {},
     "output_type": "execute_result"
    }
   ],
   "source": [
    "words.loc[words['weights'].argmax()]"
   ]
  },
  {
   "cell_type": "markdown",
   "metadata": {},
   "source": [
    "### Most Important Words of Positive Class"
   ]
  },
  {
   "cell_type": "code",
   "execution_count": 178,
   "metadata": {},
   "outputs": [
    {
     "data": {
      "text/html": [
       "<div>\n",
       "<style scoped>\n",
       "    .dataframe tbody tr th:only-of-type {\n",
       "        vertical-align: middle;\n",
       "    }\n",
       "\n",
       "    .dataframe tbody tr th {\n",
       "        vertical-align: top;\n",
       "    }\n",
       "\n",
       "    .dataframe thead th {\n",
       "        text-align: right;\n",
       "    }\n",
       "</style>\n",
       "<table border=\"1\" class=\"dataframe\">\n",
       "  <thead>\n",
       "    <tr style=\"text-align: right;\">\n",
       "      <th></th>\n",
       "      <th>words</th>\n",
       "      <th>positive</th>\n",
       "      <th>weights</th>\n",
       "    </tr>\n",
       "  </thead>\n",
       "  <tbody>\n",
       "    <tr>\n",
       "      <th>30590</th>\n",
       "      <td>love</td>\n",
       "      <td>12488.037027</td>\n",
       "      <td>-4.423290</td>\n",
       "    </tr>\n",
       "    <tr>\n",
       "      <th>22487</th>\n",
       "      <td>great</td>\n",
       "      <td>12278.876101</td>\n",
       "      <td>-4.440180</td>\n",
       "    </tr>\n",
       "    <tr>\n",
       "      <th>51562</th>\n",
       "      <td>tast</td>\n",
       "      <td>12155.794395</td>\n",
       "      <td>-4.450255</td>\n",
       "    </tr>\n",
       "    <tr>\n",
       "      <th>29913</th>\n",
       "      <td>like</td>\n",
       "      <td>12129.118940</td>\n",
       "      <td>-4.452452</td>\n",
       "    </tr>\n",
       "    <tr>\n",
       "      <th>22002</th>\n",
       "      <td>good</td>\n",
       "      <td>11811.024980</td>\n",
       "      <td>-4.479027</td>\n",
       "    </tr>\n",
       "    <tr>\n",
       "      <th>19348</th>\n",
       "      <td>flavor</td>\n",
       "      <td>9803.080638</td>\n",
       "      <td>-4.665364</td>\n",
       "    </tr>\n",
       "    <tr>\n",
       "      <th>55665</th>\n",
       "      <td>use</td>\n",
       "      <td>9712.166215</td>\n",
       "      <td>-4.674681</td>\n",
       "    </tr>\n",
       "    <tr>\n",
       "      <th>41146</th>\n",
       "      <td>product</td>\n",
       "      <td>9601.030360</td>\n",
       "      <td>-4.686190</td>\n",
       "    </tr>\n",
       "    <tr>\n",
       "      <th>36723</th>\n",
       "      <td>one</td>\n",
       "      <td>8510.302003</td>\n",
       "      <td>-4.806783</td>\n",
       "    </tr>\n",
       "    <tr>\n",
       "      <th>51711</th>\n",
       "      <td>tea</td>\n",
       "      <td>8128.262396</td>\n",
       "      <td>-4.852713</td>\n",
       "    </tr>\n",
       "    <tr>\n",
       "      <th>53747</th>\n",
       "      <td>tri</td>\n",
       "      <td>7664.535819</td>\n",
       "      <td>-4.911457</td>\n",
       "    </tr>\n",
       "    <tr>\n",
       "      <th>31198</th>\n",
       "      <td>make</td>\n",
       "      <td>7027.431888</td>\n",
       "      <td>-4.998239</td>\n",
       "    </tr>\n",
       "    <tr>\n",
       "      <th>10498</th>\n",
       "      <td>coffe</td>\n",
       "      <td>6761.480835</td>\n",
       "      <td>-5.036819</td>\n",
       "    </tr>\n",
       "    <tr>\n",
       "      <th>21276</th>\n",
       "      <td>get</td>\n",
       "      <td>6616.729822</td>\n",
       "      <td>-5.058459</td>\n",
       "    </tr>\n",
       "    <tr>\n",
       "      <th>7258</th>\n",
       "      <td>buy</td>\n",
       "      <td>5827.013763</td>\n",
       "      <td>-5.185556</td>\n",
       "    </tr>\n",
       "    <tr>\n",
       "      <th>4893</th>\n",
       "      <td>best</td>\n",
       "      <td>5523.162566</td>\n",
       "      <td>-5.239110</td>\n",
       "    </tr>\n",
       "    <tr>\n",
       "      <th>40925</th>\n",
       "      <td>price</td>\n",
       "      <td>5490.367070</td>\n",
       "      <td>-5.245065</td>\n",
       "    </tr>\n",
       "    <tr>\n",
       "      <th>19698</th>\n",
       "      <td>food</td>\n",
       "      <td>5457.163942</td>\n",
       "      <td>-5.251131</td>\n",
       "    </tr>\n",
       "    <tr>\n",
       "      <th>1650</th>\n",
       "      <td>amazon</td>\n",
       "      <td>5408.886192</td>\n",
       "      <td>-5.260017</td>\n",
       "    </tr>\n",
       "    <tr>\n",
       "      <th>52836</th>\n",
       "      <td>time</td>\n",
       "      <td>5398.541467</td>\n",
       "      <td>-5.261931</td>\n",
       "    </tr>\n",
       "    <tr>\n",
       "      <th>19045</th>\n",
       "      <td>find</td>\n",
       "      <td>5285.353991</td>\n",
       "      <td>-5.283121</td>\n",
       "    </tr>\n",
       "    <tr>\n",
       "      <th>37015</th>\n",
       "      <td>order</td>\n",
       "      <td>5149.511738</td>\n",
       "      <td>-5.309158</td>\n",
       "    </tr>\n",
       "    <tr>\n",
       "      <th>16094</th>\n",
       "      <td>eat</td>\n",
       "      <td>4945.739769</td>\n",
       "      <td>-5.349534</td>\n",
       "    </tr>\n",
       "    <tr>\n",
       "      <th>42669</th>\n",
       "      <td>realli</td>\n",
       "      <td>4859.922000</td>\n",
       "      <td>-5.367038</td>\n",
       "    </tr>\n",
       "    <tr>\n",
       "      <th>58458</th>\n",
       "      <td>would</td>\n",
       "      <td>4730.966764</td>\n",
       "      <td>-5.393931</td>\n",
       "    </tr>\n",
       "  </tbody>\n",
       "</table>\n",
       "</div>"
      ],
      "text/plain": [
       "         words      positive   weights\n",
       "30590     love  12488.037027 -4.423290\n",
       "22487    great  12278.876101 -4.440180\n",
       "51562     tast  12155.794395 -4.450255\n",
       "29913     like  12129.118940 -4.452452\n",
       "22002     good  11811.024980 -4.479027\n",
       "19348   flavor   9803.080638 -4.665364\n",
       "55665      use   9712.166215 -4.674681\n",
       "41146  product   9601.030360 -4.686190\n",
       "36723      one   8510.302003 -4.806783\n",
       "51711      tea   8128.262396 -4.852713\n",
       "53747      tri   7664.535819 -4.911457\n",
       "31198     make   7027.431888 -4.998239\n",
       "10498    coffe   6761.480835 -5.036819\n",
       "21276      get   6616.729822 -5.058459\n",
       "7258       buy   5827.013763 -5.185556\n",
       "4893      best   5523.162566 -5.239110\n",
       "40925    price   5490.367070 -5.245065\n",
       "19698     food   5457.163942 -5.251131\n",
       "1650    amazon   5408.886192 -5.260017\n",
       "52836     time   5398.541467 -5.261931\n",
       "19045     find   5285.353991 -5.283121\n",
       "37015    order   5149.511738 -5.309158\n",
       "16094      eat   4945.739769 -5.349534\n",
       "42669   realli   4859.922000 -5.367038\n",
       "58458    would   4730.966764 -5.393931"
      ]
     },
     "execution_count": 178,
     "metadata": {},
     "output_type": "execute_result"
    }
   ],
   "source": [
    "# important words of positive class\n",
    "sorted_words_positive = words.sort_values('positive', ascending=False)\n",
    "sorted_words_positive.drop('negative', axis=1).head(25)"
   ]
  },
  {
   "cell_type": "code",
   "execution_count": 177,
   "metadata": {
    "scrolled": true
   },
   "outputs": [
    {
     "data": {
      "text/html": [
       "<div>\n",
       "<style scoped>\n",
       "    .dataframe tbody tr th:only-of-type {\n",
       "        vertical-align: middle;\n",
       "    }\n",
       "\n",
       "    .dataframe tbody tr th {\n",
       "        vertical-align: top;\n",
       "    }\n",
       "\n",
       "    .dataframe thead th {\n",
       "        text-align: right;\n",
       "    }\n",
       "</style>\n",
       "<table border=\"1\" class=\"dataframe\">\n",
       "  <thead>\n",
       "    <tr style=\"text-align: right;\">\n",
       "      <th></th>\n",
       "      <th>words</th>\n",
       "      <th>negative</th>\n",
       "      <th>weights</th>\n",
       "    </tr>\n",
       "  </thead>\n",
       "  <tbody>\n",
       "    <tr>\n",
       "      <th>51562</th>\n",
       "      <td>tast</td>\n",
       "      <td>3057.336209</td>\n",
       "      <td>-4.450255</td>\n",
       "    </tr>\n",
       "    <tr>\n",
       "      <th>29913</th>\n",
       "      <td>like</td>\n",
       "      <td>2694.375407</td>\n",
       "      <td>-4.452452</td>\n",
       "    </tr>\n",
       "    <tr>\n",
       "      <th>41146</th>\n",
       "      <td>product</td>\n",
       "      <td>2522.880493</td>\n",
       "      <td>-4.686190</td>\n",
       "    </tr>\n",
       "    <tr>\n",
       "      <th>36723</th>\n",
       "      <td>one</td>\n",
       "      <td>1718.840329</td>\n",
       "      <td>-4.806783</td>\n",
       "    </tr>\n",
       "    <tr>\n",
       "      <th>19348</th>\n",
       "      <td>flavor</td>\n",
       "      <td>1567.082971</td>\n",
       "      <td>-4.665364</td>\n",
       "    </tr>\n",
       "    <tr>\n",
       "      <th>58458</th>\n",
       "      <td>would</td>\n",
       "      <td>1505.043411</td>\n",
       "      <td>-5.393931</td>\n",
       "    </tr>\n",
       "    <tr>\n",
       "      <th>53747</th>\n",
       "      <td>tri</td>\n",
       "      <td>1436.285639</td>\n",
       "      <td>-4.911457</td>\n",
       "    </tr>\n",
       "    <tr>\n",
       "      <th>22002</th>\n",
       "      <td>good</td>\n",
       "      <td>1354.542007</td>\n",
       "      <td>-4.479027</td>\n",
       "    </tr>\n",
       "    <tr>\n",
       "      <th>7258</th>\n",
       "      <td>buy</td>\n",
       "      <td>1342.526150</td>\n",
       "      <td>-5.185556</td>\n",
       "    </tr>\n",
       "    <tr>\n",
       "      <th>37015</th>\n",
       "      <td>order</td>\n",
       "      <td>1257.054977</td>\n",
       "      <td>-5.309158</td>\n",
       "    </tr>\n",
       "    <tr>\n",
       "      <th>55665</th>\n",
       "      <td>use</td>\n",
       "      <td>1254.921546</td>\n",
       "      <td>-4.674681</td>\n",
       "    </tr>\n",
       "    <tr>\n",
       "      <th>21276</th>\n",
       "      <td>get</td>\n",
       "      <td>1148.528400</td>\n",
       "      <td>-5.058459</td>\n",
       "    </tr>\n",
       "    <tr>\n",
       "      <th>15271</th>\n",
       "      <td>dont</td>\n",
       "      <td>1045.567577</td>\n",
       "      <td>-5.565799</td>\n",
       "    </tr>\n",
       "    <tr>\n",
       "      <th>10498</th>\n",
       "      <td>coffe</td>\n",
       "      <td>1012.800695</td>\n",
       "      <td>-5.036819</td>\n",
       "    </tr>\n",
       "    <tr>\n",
       "      <th>51711</th>\n",
       "      <td>tea</td>\n",
       "      <td>1001.403308</td>\n",
       "      <td>-4.852713</td>\n",
       "    </tr>\n",
       "    <tr>\n",
       "      <th>19698</th>\n",
       "      <td>food</td>\n",
       "      <td>983.297124</td>\n",
       "      <td>-5.251131</td>\n",
       "    </tr>\n",
       "    <tr>\n",
       "      <th>6201</th>\n",
       "      <td>box</td>\n",
       "      <td>953.869685</td>\n",
       "      <td>-5.921045</td>\n",
       "    </tr>\n",
       "    <tr>\n",
       "      <th>17621</th>\n",
       "      <td>even</td>\n",
       "      <td>902.680438</td>\n",
       "      <td>-5.719566</td>\n",
       "    </tr>\n",
       "    <tr>\n",
       "      <th>1650</th>\n",
       "      <td>amazon</td>\n",
       "      <td>884.899586</td>\n",
       "      <td>-5.260017</td>\n",
       "    </tr>\n",
       "    <tr>\n",
       "      <th>16094</th>\n",
       "      <td>eat</td>\n",
       "      <td>860.791259</td>\n",
       "      <td>-5.349534</td>\n",
       "    </tr>\n",
       "    <tr>\n",
       "      <th>3775</th>\n",
       "      <td>bag</td>\n",
       "      <td>838.970784</td>\n",
       "      <td>-5.663030</td>\n",
       "    </tr>\n",
       "    <tr>\n",
       "      <th>52836</th>\n",
       "      <td>time</td>\n",
       "      <td>832.514786</td>\n",
       "      <td>-5.261931</td>\n",
       "    </tr>\n",
       "    <tr>\n",
       "      <th>34169</th>\n",
       "      <td>much</td>\n",
       "      <td>809.315203</td>\n",
       "      <td>-5.471004</td>\n",
       "    </tr>\n",
       "    <tr>\n",
       "      <th>31198</th>\n",
       "      <td>make</td>\n",
       "      <td>779.321079</td>\n",
       "      <td>-4.998239</td>\n",
       "    </tr>\n",
       "    <tr>\n",
       "      <th>30590</th>\n",
       "      <td>love</td>\n",
       "      <td>768.439956</td>\n",
       "      <td>-4.423290</td>\n",
       "    </tr>\n",
       "  </tbody>\n",
       "</table>\n",
       "</div>"
      ],
      "text/plain": [
       "         words     negative   weights\n",
       "51562     tast  3057.336209 -4.450255\n",
       "29913     like  2694.375407 -4.452452\n",
       "41146  product  2522.880493 -4.686190\n",
       "36723      one  1718.840329 -4.806783\n",
       "19348   flavor  1567.082971 -4.665364\n",
       "58458    would  1505.043411 -5.393931\n",
       "53747      tri  1436.285639 -4.911457\n",
       "22002     good  1354.542007 -4.479027\n",
       "7258       buy  1342.526150 -5.185556\n",
       "37015    order  1257.054977 -5.309158\n",
       "55665      use  1254.921546 -4.674681\n",
       "21276      get  1148.528400 -5.058459\n",
       "15271     dont  1045.567577 -5.565799\n",
       "10498    coffe  1012.800695 -5.036819\n",
       "51711      tea  1001.403308 -4.852713\n",
       "19698     food   983.297124 -5.251131\n",
       "6201       box   953.869685 -5.921045\n",
       "17621     even   902.680438 -5.719566\n",
       "1650    amazon   884.899586 -5.260017\n",
       "16094      eat   860.791259 -5.349534\n",
       "3775       bag   838.970784 -5.663030\n",
       "52836     time   832.514786 -5.261931\n",
       "34169     much   809.315203 -5.471004\n",
       "31198     make   779.321079 -4.998239\n",
       "30590     love   768.439956 -4.423290"
      ]
     },
     "execution_count": 177,
     "metadata": {},
     "output_type": "execute_result"
    }
   ],
   "source": [
    "# important words of negative class\n",
    "sorted_words_negative = words.sort_values('negative', ascending=False)\n",
    "sorted_words_negative.drop('positive', axis=1).head(25)"
   ]
  },
  {
   "cell_type": "markdown",
   "metadata": {},
   "source": [
    "# Lets compare the reviews with their probability to which class it belongs"
   ]
  },
  {
   "cell_type": "code",
   "execution_count": 139,
   "metadata": {},
   "outputs": [
    {
     "data": {
      "text/plain": [
       "(109252, 2)"
      ]
     },
     "execution_count": 139,
     "metadata": {},
     "output_type": "execute_result"
    }
   ],
   "source": [
    "nb.predict_proba(bow_X_test).shape"
   ]
  },
  {
   "cell_type": "code",
   "execution_count": 156,
   "metadata": {},
   "outputs": [
    {
     "data": {
      "text/html": [
       "<div>\n",
       "<style scoped>\n",
       "    .dataframe tbody tr th:only-of-type {\n",
       "        vertical-align: middle;\n",
       "    }\n",
       "\n",
       "    .dataframe tbody tr th {\n",
       "        vertical-align: top;\n",
       "    }\n",
       "\n",
       "    .dataframe thead th {\n",
       "        text-align: right;\n",
       "    }\n",
       "</style>\n",
       "<table border=\"1\" class=\"dataframe\">\n",
       "  <thead>\n",
       "    <tr style=\"text-align: right;\">\n",
       "      <th></th>\n",
       "      <th>words</th>\n",
       "      <th>negative probability</th>\n",
       "      <th>positive probability</th>\n",
       "      <th>true_class</th>\n",
       "    </tr>\n",
       "  </thead>\n",
       "  <tbody>\n",
       "    <tr>\n",
       "      <th>254919</th>\n",
       "      <td>word want reduc caffienn brand best choic use ...</td>\n",
       "      <td>0.080737</td>\n",
       "      <td>0.919263</td>\n",
       "      <td>1</td>\n",
       "    </tr>\n",
       "    <tr>\n",
       "      <th>254920</th>\n",
       "      <td>louisiana nativ like peopl louisiana drink com...</td>\n",
       "      <td>0.052268</td>\n",
       "      <td>0.947732</td>\n",
       "      <td>1</td>\n",
       "    </tr>\n",
       "    <tr>\n",
       "      <th>254921</th>\n",
       "      <td>drink number brand coffe definit dont enjoy fi...</td>\n",
       "      <td>0.064091</td>\n",
       "      <td>0.935909</td>\n",
       "      <td>1</td>\n",
       "    </tr>\n",
       "    <tr>\n",
       "      <th>254922</th>\n",
       "      <td>purchas great price amazon pleas flavor buddi ...</td>\n",
       "      <td>0.041237</td>\n",
       "      <td>0.958763</td>\n",
       "      <td>0</td>\n",
       "    </tr>\n",
       "    <tr>\n",
       "      <th>254923</th>\n",
       "      <td>love coffe still block form fresh communiti co...</td>\n",
       "      <td>0.078502</td>\n",
       "      <td>0.921498</td>\n",
       "      <td>1</td>\n",
       "    </tr>\n",
       "  </tbody>\n",
       "</table>\n",
       "</div>"
      ],
      "text/plain": [
       "                                                    words  \\\n",
       "254919  word want reduc caffienn brand best choic use ...   \n",
       "254920  louisiana nativ like peopl louisiana drink com...   \n",
       "254921  drink number brand coffe definit dont enjoy fi...   \n",
       "254922  purchas great price amazon pleas flavor buddi ...   \n",
       "254923  love coffe still block form fresh communiti co...   \n",
       "\n",
       "        negative probability  positive probability  true_class  \n",
       "254919              0.080737              0.919263           1  \n",
       "254920              0.052268              0.947732           1  \n",
       "254921              0.064091              0.935909           1  \n",
       "254922              0.041237              0.958763           0  \n",
       "254923              0.078502              0.921498           1  "
      ]
     },
     "execution_count": 156,
     "metadata": {},
     "output_type": "execute_result"
    }
   ],
   "source": [
    "words_with_probailitites = pd.DataFrame({'words': X_test, 'negative probability':nb.predict_proba(bow_X_test)[:,0], 'positive probability':nb.predict_proba(bow_X_test)[:,1], 'true_class': y_test})\n",
    "words_with_probailitites.head()"
   ]
  },
  {
   "cell_type": "code",
   "execution_count": 157,
   "metadata": {},
   "outputs": [
    {
     "data": {
      "text/html": [
       "<div>\n",
       "<style scoped>\n",
       "    .dataframe tbody tr th:only-of-type {\n",
       "        vertical-align: middle;\n",
       "    }\n",
       "\n",
       "    .dataframe tbody tr th {\n",
       "        vertical-align: top;\n",
       "    }\n",
       "\n",
       "    .dataframe thead th {\n",
       "        text-align: right;\n",
       "    }\n",
       "</style>\n",
       "<table border=\"1\" class=\"dataframe\">\n",
       "  <thead>\n",
       "    <tr style=\"text-align: right;\">\n",
       "      <th></th>\n",
       "      <th>words</th>\n",
       "      <th>negative probability</th>\n",
       "      <th>positive probability</th>\n",
       "      <th>true_class</th>\n",
       "    </tr>\n",
       "  </thead>\n",
       "  <tbody>\n",
       "    <tr>\n",
       "      <th>364097</th>\n",
       "      <td>unimpress almond clovey musti tast expect swee...</td>\n",
       "      <td>0.396581</td>\n",
       "      <td>0.603419</td>\n",
       "      <td>0</td>\n",
       "    </tr>\n",
       "    <tr>\n",
       "      <th>364114</th>\n",
       "      <td>spice tast harsh raw weird tast mayb much asaf...</td>\n",
       "      <td>0.187941</td>\n",
       "      <td>0.812059</td>\n",
       "      <td>0</td>\n",
       "    </tr>\n",
       "    <tr>\n",
       "      <th>364125</th>\n",
       "      <td>realli gross tast like calori worth chocol pea...</td>\n",
       "      <td>0.328486</td>\n",
       "      <td>0.671514</td>\n",
       "      <td>0</td>\n",
       "    </tr>\n",
       "    <tr>\n",
       "      <th>364141</th>\n",
       "      <td>trader joe product good qualiti buy straight t...</td>\n",
       "      <td>0.387797</td>\n",
       "      <td>0.612203</td>\n",
       "      <td>0</td>\n",
       "    </tr>\n",
       "    <tr>\n",
       "      <th>364144</th>\n",
       "      <td>wateri tasteless pinot noir planet cali tool m...</td>\n",
       "      <td>0.464924</td>\n",
       "      <td>0.535076</td>\n",
       "      <td>0</td>\n",
       "    </tr>\n",
       "  </tbody>\n",
       "</table>\n",
       "</div>"
      ],
      "text/plain": [
       "                                                    words  \\\n",
       "364097  unimpress almond clovey musti tast expect swee...   \n",
       "364114  spice tast harsh raw weird tast mayb much asaf...   \n",
       "364125  realli gross tast like calori worth chocol pea...   \n",
       "364141  trader joe product good qualiti buy straight t...   \n",
       "364144  wateri tasteless pinot noir planet cali tool m...   \n",
       "\n",
       "        negative probability  positive probability  true_class  \n",
       "364097              0.396581              0.603419           0  \n",
       "364114              0.187941              0.812059           0  \n",
       "364125              0.328486              0.671514           0  \n",
       "364141              0.387797              0.612203           0  \n",
       "364144              0.464924              0.535076           0  "
      ]
     },
     "execution_count": 157,
     "metadata": {},
     "output_type": "execute_result"
    }
   ],
   "source": [
    "#reviews that are actually negative\n",
    "words_with_probailitites[words_with_probailitites['true_class'] == 0].head()"
   ]
  },
  {
   "cell_type": "code",
   "execution_count": 144,
   "metadata": {
    "scrolled": true
   },
   "outputs": [
    {
     "data": {
      "text/html": [
       "<div>\n",
       "<style scoped>\n",
       "    .dataframe tbody tr th:only-of-type {\n",
       "        vertical-align: middle;\n",
       "    }\n",
       "\n",
       "    .dataframe tbody tr th {\n",
       "        vertical-align: top;\n",
       "    }\n",
       "\n",
       "    .dataframe thead th {\n",
       "        text-align: right;\n",
       "    }\n",
       "</style>\n",
       "<table border=\"1\" class=\"dataframe\">\n",
       "  <thead>\n",
       "    <tr style=\"text-align: right;\">\n",
       "      <th></th>\n",
       "      <th>words</th>\n",
       "      <th>negative probability</th>\n",
       "      <th>positive probability</th>\n",
       "      <th>true_class</th>\n",
       "    </tr>\n",
       "  </thead>\n",
       "  <tbody>\n",
       "    <tr>\n",
       "      <th>254919</th>\n",
       "      <td>word want reduc caffienn brand best choic use ...</td>\n",
       "      <td>0.080737</td>\n",
       "      <td>0.919263</td>\n",
       "      <td>1</td>\n",
       "    </tr>\n",
       "    <tr>\n",
       "      <th>254920</th>\n",
       "      <td>louisiana nativ like peopl louisiana drink com...</td>\n",
       "      <td>0.052268</td>\n",
       "      <td>0.947732</td>\n",
       "      <td>1</td>\n",
       "    </tr>\n",
       "    <tr>\n",
       "      <th>254921</th>\n",
       "      <td>drink number brand coffe definit dont enjoy fi...</td>\n",
       "      <td>0.064091</td>\n",
       "      <td>0.935909</td>\n",
       "      <td>1</td>\n",
       "    </tr>\n",
       "    <tr>\n",
       "      <th>254923</th>\n",
       "      <td>love coffe still block form fresh communiti co...</td>\n",
       "      <td>0.078502</td>\n",
       "      <td>0.921498</td>\n",
       "      <td>1</td>\n",
       "    </tr>\n",
       "    <tr>\n",
       "      <th>254924</th>\n",
       "      <td>truli wonder high suggest flavor mild alway fe...</td>\n",
       "      <td>0.040961</td>\n",
       "      <td>0.959039</td>\n",
       "      <td>1</td>\n",
       "    </tr>\n",
       "  </tbody>\n",
       "</table>\n",
       "</div>"
      ],
      "text/plain": [
       "                                                    words  \\\n",
       "254919  word want reduc caffienn brand best choic use ...   \n",
       "254920  louisiana nativ like peopl louisiana drink com...   \n",
       "254921  drink number brand coffe definit dont enjoy fi...   \n",
       "254923  love coffe still block form fresh communiti co...   \n",
       "254924  truli wonder high suggest flavor mild alway fe...   \n",
       "\n",
       "        negative probability  positive probability  true_class  \n",
       "254919              0.080737              0.919263           1  \n",
       "254920              0.052268              0.947732           1  \n",
       "254921              0.064091              0.935909           1  \n",
       "254923              0.078502              0.921498           1  \n",
       "254924              0.040961              0.959039           1  "
      ]
     },
     "execution_count": 144,
     "metadata": {},
     "output_type": "execute_result"
    }
   ],
   "source": [
    "#reviews that are actually positive\n",
    "words_with_probailitites[words_with_probailitites['true_class'] == 1].head()"
   ]
  },
  {
   "cell_type": "markdown",
   "metadata": {},
   "source": [
    "# RESULTS"
   ]
  },
  {
   "cell_type": "code",
   "execution_count": 49,
   "metadata": {},
   "outputs": [
    {
     "name": "stdout",
     "output_type": "stream",
     "text": [
      "+-----------------------------+------------+----------+----------+------------+------------+\n",
      "|            MODEL            | BEST alpha | ACCURACY | F1-SCORE | PRECISION  |   RECALL   |\n",
      "+-----------------------------+------------+----------+----------+------------+------------+\n",
      "|     BOW with BERNOULLINB    |    0.05    |   88.1   |    93    |     93     |     93     |\n",
      "|    BOW with MULTINOMIALNB   |   0.005    |  88.12   |    93    |     92     |     93     |\n",
      "|          ----------         |   -----    | -------- |  -----   | ---------- | ---------- |\n",
      "|    TFIDF with BERNOULLINB   |    0.05    |  88.08   |    93    |     93     |     93     |\n",
      "|   TFIDF with MULTINOMIALNB  |    0.01    |   88.1   |    93    |     93     |     93     |\n",
      "|          ----------         |  --------  | -------- |  -----   | ---------- | ---------- |\n",
      "|   AVGW2V with BERNOULLINB   |    ---     |   ---    |   ---    |    ---     |    ---     |\n",
      "|  AVGW2V with MULTINOMIALNB  |    ---     |   ---    |   ---    |    ---     |    ---     |\n",
      "|          ----------         |  --------  | -------- |  -----   | ---------- | ---------- |\n",
      "|  TFIDFW2V with BERNOULLINB  |    ---     |   ---    |   ---    |    ---     |    ---     |\n",
      "| TFIDFW2V with MULTINOMIALNB |    ---     |   ---    |   ---    |    ---     |    ---     |\n",
      "+-----------------------------+------------+----------+----------+------------+------------+\n"
     ]
    }
   ],
   "source": [
    "from prettytable import PrettyTable\n",
    "x = PrettyTable()\n",
    "x.field_names = [\"MODEL\", \"BEST alpha\", \"ACCURACY\", \"F1-SCORE\", \"PRECISION\", \"RECALL\" ]\n",
    "#BOW\n",
    "x.add_row(['BOW with BERNOULLINB', 0.05, 88.1, 93, 93, 93 ])\n",
    "x.add_row([\"BOW with MULTINOMIALNB\", 0.005, 88.12, 93, 92, 93 ])\n",
    "x.add_row(['--'*5,'-'*5,'-'*8,'-'*5, '--'*5, '--'*5])\n",
    "#TFIDF\n",
    "x.add_row(['TFIDF with BERNOULLINB', 0.05, 88.08, 93, 93, 93 ])\n",
    "x.add_row([\"TFIDF with MULTINOMIALNB\", 0.01, 88.10, 93, 93, 93 ])\n",
    "x.add_row(['--'*5,'-'*8,'-'*8,'-'*5, '--'*5, '--'*5])\n",
    "#AVGW2V\n",
    "x.add_row(['AVGW2V with BERNOULLINB', '---' , '---', '---', '---', '---'])\n",
    "x.add_row([\"AVGW2V with MULTINOMIALNB\", '---' ,'---' ,'---' ,'---', '---'])\n",
    "x.add_row(['--'*5,'-'*8,'-'*8,'-'*5, '--'*5, '--'*5])\n",
    "#TFIDFW2V\n",
    "x.add_row(['TFIDFW2V with BERNOULLINB', '---' , '---', '---', '---', '---' ])\n",
    "x.add_row([\"TFIDFW2V with MULTINOMIALNB\", '---' , '---', '---', '---', '---'])\n",
    "print(x)"
   ]
  },
  {
   "cell_type": "code",
   "execution_count": 50,
   "metadata": {},
   "outputs": [
    {
     "data": {
      "text/plain": [
       "1    90894\n",
       "0    18358\n",
       "Name: Score, dtype: int64"
      ]
     },
     "execution_count": 50,
     "metadata": {},
     "output_type": "execute_result"
    }
   ],
   "source": [
    "#number of positive and negative values in test data\n",
    "y_test.value_counts()"
   ]
  },
  {
   "cell_type": "markdown",
   "metadata": {},
   "source": [
    "**OBSERVATIONS**\n",
    "\n",
    "\n",
    "1. the test error is showing same over all the vectorisations but actual results are known by seeing confusion matrix.\n",
    "\n",
    "\n",
    "2. confusion matrix = [tn fp] [fn tp]\n",
    "\n",
    "        tn - actual class and predicted class are both negative\n",
    "\n",
    "        tp - actual class and predicted class are both positive\n",
    "\n",
    "        fn - actual class is positive but model wrongly classified as negative[Falsdely classified negative data points]\n",
    "\n",
    "        fp - actual class is negative model,wrongly classified as positive. [falsely classified\n",
    "\n",
    "\n",
    "3. The Accuracy is same for all vectorizers, But the Precision is high with MultinomialNB() on TFIDF.\n",
    "\n",
    "4. tried with Word2Vec too, But it failed with MultinomialNB() it pointed out errors as negative value. it may be because words are corellated and conditional independence principle not satisfied.\n",
    "\n",
    "\n",
    "**4. this current model is so much biased towards positive data since large amount of points belongs to positive class. this can be little bit solved using upsampling.**"
   ]
  },
  {
   "cell_type": "code",
   "execution_count": null,
   "metadata": {},
   "outputs": [],
   "source": []
  }
 ],
 "metadata": {
  "kernelspec": {
   "display_name": "Python 3",
   "language": "python",
   "name": "python3"
  },
  "language_info": {
   "codemirror_mode": {
    "name": "ipython",
    "version": 3
   },
   "file_extension": ".py",
   "mimetype": "text/x-python",
   "name": "python",
   "nbconvert_exporter": "python",
   "pygments_lexer": "ipython3",
   "version": "3.6.5"
  }
 },
 "nbformat": 4,
 "nbformat_minor": 2
}
