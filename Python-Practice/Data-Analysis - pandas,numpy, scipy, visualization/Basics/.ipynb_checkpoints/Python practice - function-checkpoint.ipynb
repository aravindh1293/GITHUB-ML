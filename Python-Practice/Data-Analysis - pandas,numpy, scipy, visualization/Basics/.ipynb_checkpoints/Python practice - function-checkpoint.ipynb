{
 "cells": [
  {
   "cell_type": "markdown",
   "metadata": {},
   "source": [
    "\n",
    "# python practice"
   ]
  },
  {
   "cell_type": "markdown",
   "metadata": {},
   "source": [
    "1.\tWrite a function that inputs a number and prints the multiplication table of that number"
   ]
  },
  {
   "cell_type": "code",
   "execution_count": 6,
   "metadata": {},
   "outputs": [
    {
     "name": "stdout",
     "output_type": "stream",
     "text": [
      "enter a no:5\n",
      "5 X 1 = 5\n",
      "5 X 2 = 10\n",
      "5 X 3 = 15\n",
      "5 X 4 = 20\n",
      "5 X 5 = 25\n",
      "5 X 6 = 30\n",
      "5 X 7 = 35\n",
      "5 X 8 = 40\n",
      "5 X 9 = 45\n",
      "5 X 10 = 50\n"
     ]
    }
   ],
   "source": [
    "num = int(input(\"enter a no:\"))\n",
    "\n",
    "for i in range (1,11) :\n",
    "    print (num, 'X', i, \"=\", num * i)"
   ]
  },
  {
   "cell_type": "markdown",
   "metadata": {},
   "source": [
    "2.\tWrite a program to print twin primes  less than 1000. If two consecutive odd numbers are both prime then they are known as twin primes"
   ]
  },
  {
   "cell_type": "code",
   "execution_count": 11,
   "metadata": {},
   "outputs": [
    {
     "name": "stdout",
     "output_type": "stream",
     "text": [
      "twin primes are : 4 and 6\n",
      "twin primes are : 6 and 8\n",
      "twin primes are : 8 and 10\n",
      "twin primes are : 10 and 12\n",
      "twin primes are : 12 and 14\n",
      "twin primes are : 14 and 16\n",
      "twin primes are : 16 and 18\n",
      "twin primes are : 18 and 20\n",
      "twin primes are : 20 and 22\n",
      "twin primes are : 22 and 24\n",
      "twin primes are : 24 and 26\n",
      "twin primes are : 25 and 27\n",
      "twin primes are : 26 and 28\n",
      "twin primes are : 28 and 30\n",
      "twin primes are : 30 and 32\n",
      "twin primes are : 32 and 34\n",
      "twin primes are : 33 and 35\n",
      "twin primes are : 34 and 36\n",
      "twin primes are : 36 and 38\n",
      "twin primes are : 38 and 40\n",
      "twin primes are : 40 and 42\n",
      "twin primes are : 42 and 44\n",
      "twin primes are : 44 and 46\n",
      "twin primes are : 46 and 48\n",
      "twin primes are : 48 and 50\n",
      "twin primes are : 49 and 51\n",
      "twin primes are : 50 and 52\n",
      "twin primes are : 52 and 54\n",
      "twin primes are : 54 and 56\n",
      "twin primes are : 55 and 57\n",
      "twin primes are : 56 and 58\n",
      "twin primes are : 58 and 60\n",
      "twin primes are : 60 and 62\n",
      "twin primes are : 62 and 64\n",
      "twin primes are : 63 and 65\n",
      "twin primes are : 64 and 66\n",
      "twin primes are : 66 and 68\n",
      "twin primes are : 68 and 70\n",
      "twin primes are : 70 and 72\n",
      "twin primes are : 72 and 74\n",
      "twin primes are : 74 and 76\n",
      "twin primes are : 75 and 77\n",
      "twin primes are : 76 and 78\n",
      "twin primes are : 78 and 80\n",
      "twin primes are : 80 and 82\n",
      "twin primes are : 82 and 84\n",
      "twin primes are : 84 and 86\n",
      "twin primes are : 85 and 87\n",
      "twin primes are : 86 and 88\n",
      "twin primes are : 88 and 90\n",
      "twin primes are : 90 and 92\n",
      "twin primes are : 91 and 93\n",
      "twin primes are : 92 and 94\n",
      "twin primes are : 93 and 95\n",
      "twin primes are : 94 and 96\n",
      "twin primes are : 96 and 98\n",
      "twin primes are : 98 and 100\n",
      "twin primes are : 100 and 102\n"
     ]
    },
    {
     "ename": "TypeError",
     "evalue": "'NoneType' object is not iterable",
     "output_type": "error",
     "traceback": [
      "\u001b[1;31m---------------------------------------------------------------------------\u001b[0m",
      "\u001b[1;31mTypeError\u001b[0m                                 Traceback (most recent call last)",
      "\u001b[1;32m<ipython-input-11-fbf3bce8137b>\u001b[0m in \u001b[0;36m<module>\u001b[1;34m()\u001b[0m\n\u001b[0;32m     13\u001b[0m \u001b[1;31m#3. if yes it is called twin prime number\u001b[0m\u001b[1;33m\u001b[0m\u001b[1;33m\u001b[0m\u001b[0m\n\u001b[0;32m     14\u001b[0m \u001b[1;33m\u001b[0m\u001b[0m\n\u001b[1;32m---> 15\u001b[1;33m \u001b[0mlist\u001b[0m\u001b[1;33m(\u001b[0m\u001b[0mtwin_prime\u001b[0m\u001b[1;33m(\u001b[0m\u001b[1;36m2\u001b[0m\u001b[1;33m,\u001b[0m \u001b[1;36m100\u001b[0m\u001b[1;33m)\u001b[0m\u001b[1;33m)\u001b[0m\u001b[1;33m\u001b[0m\u001b[0m\n\u001b[0m",
      "\u001b[1;31mTypeError\u001b[0m: 'NoneType' object is not iterable"
     ]
    }
   ],
   "source": [
    "#1. def if a number is prime, if reminder of number/number = 0, ex: 17/17 = 0\n",
    "def is_prime (n):\n",
    "    for i in range (2,n):\n",
    "        if n%i == 0 :\n",
    "            return True\n",
    "    return False\n",
    "#2. check if i = a prime number, and also i+2 is also prime number\n",
    "def twin_prime(lower, upper):\n",
    "    for i in range (lower, upper+1):\n",
    "        j = i + 2\n",
    "        if (is_prime(i) & is_prime(j)):\n",
    "            print ('twin primes are : {} and {}' .format(i,j))\n",
    "#3. if yes it is called twin prime number\n",
    "\n",
    "twin_prime(2, 100)"
   ]
  },
  {
   "cell_type": "markdown",
   "metadata": {},
   "source": [
    "3.\tWrite a program to find out the prime factors of a number. Example: prime factors of 56 - 2, 2, 2, 7"
   ]
  },
  {
   "cell_type": "code",
   "execution_count": null,
   "metadata": {},
   "outputs": [],
   "source": []
  },
  {
   "cell_type": "markdown",
   "metadata": {},
   "source": [
    "4.\tWrite a program to implement these formulae of permutations and combinations. Number of permutations of n objects taken r at a time: p(n, r) = n! / (n-r)!.  Number of combinations of n objects taken r at a time is: c(n, r) = n! / (r!*(n-r)!) = p(n,r) / r!"
   ]
  },
  {
   "cell_type": "code",
   "execution_count": null,
   "metadata": {},
   "outputs": [],
   "source": []
  },
  {
   "cell_type": "markdown",
   "metadata": {},
   "source": [
    "5.\tWrite a function that converts a decimal number to binary number"
   ]
  },
  {
   "cell_type": "code",
   "execution_count": null,
   "metadata": {},
   "outputs": [],
   "source": []
  },
  {
   "cell_type": "markdown",
   "metadata": {},
   "source": [
    "6.\tWrite a function cubesum() that accepts an integer and returns the sum of the cubes of individual digits of that number. Use this function to make functions PrintArmstrong() and isArmstrong() to print Armstrong numbers and to find whether is an Armstrong number."
   ]
  },
  {
   "cell_type": "code",
   "execution_count": null,
   "metadata": {},
   "outputs": [],
   "source": []
  },
  {
   "cell_type": "markdown",
   "metadata": {},
   "source": [
    "7.\tWrite a function prodDigits() that inputs a number and returns the product of digits of that number."
   ]
  },
  {
   "cell_type": "code",
   "execution_count": null,
   "metadata": {},
   "outputs": [],
   "source": []
  },
  {
   "cell_type": "markdown",
   "metadata": {},
   "source": [
    "8.\tIf all digits of a number n are multiplied by each other repeating with the product, the one digit number obtained at last is called the multiplicative digital root of n. The number of times digits need to be multiplied to reach one digit is called the multiplicative persistance of n. \n",
    "\tExample: 86 -> 48 -> 32 -> 6 (MDR 6, MPersistence 3)\n",
    "               341 -> 12->2           (MDR 2, MPersistence 2)\n",
    "Using the function prodDigits() of previous exercise write functions MDR() and MPersistence() that input a number and return its multiplicative digital root and multiplicative persistence respectively\n"
   ]
  },
  {
   "cell_type": "code",
   "execution_count": null,
   "metadata": {},
   "outputs": [],
   "source": []
  },
  {
   "cell_type": "markdown",
   "metadata": {},
   "source": [
    "9.\tWrite a function sumPdivisors() that finds the sum of proper divisors of a number. Proper divisors of a number are those numbers by which the number is divisible, except the number itself.  For example proper divisors of 36 are 1, 2, 3, 4, 6, 9, 18"
   ]
  },
  {
   "cell_type": "code",
   "execution_count": null,
   "metadata": {},
   "outputs": [],
   "source": []
  },
  {
   "cell_type": "markdown",
   "metadata": {},
   "source": [
    "10.\tA number is called perfect if the sum of proper divisors of that number is equal to the number. For example 28 is perfect number, since 1+2+4+7+14=28. Write a program to print all the perfect numbers in a given range"
   ]
  },
  {
   "cell_type": "code",
   "execution_count": null,
   "metadata": {},
   "outputs": [],
   "source": []
  },
  {
   "cell_type": "markdown",
   "metadata": {},
   "source": [
    "11.\tTwo different numbers are called amicable numbers if the sum of the proper divisors of each is equal to the other number. For example 220 and 284 are amicable numbers.\n",
    "Sum of proper divisors of 220 = 1+2+4+5+10+11+20+22+44+55+110 = 284\n",
    "Sum of proper divisors of 284 = 1+2+4+71+142 = 220\n",
    "Write a function to print pairs of amicable numbers in a range\n"
   ]
  },
  {
   "cell_type": "code",
   "execution_count": null,
   "metadata": {},
   "outputs": [],
   "source": []
  },
  {
   "cell_type": "markdown",
   "metadata": {},
   "source": [
    "12.\tWrite a program which can filter odd numbers in a list by using filter function"
   ]
  },
  {
   "cell_type": "code",
   "execution_count": null,
   "metadata": {},
   "outputs": [],
   "source": []
  },
  {
   "cell_type": "markdown",
   "metadata": {},
   "source": [
    "13.\tWrite a program which can map() to make a list whose elements are cube of elements in a given list"
   ]
  },
  {
   "cell_type": "code",
   "execution_count": null,
   "metadata": {},
   "outputs": [],
   "source": []
  },
  {
   "cell_type": "markdown",
   "metadata": {},
   "source": [
    "14.\tWrite a program which can map() and filter() to make a list whose elements are cube of even number in a given list"
   ]
  },
  {
   "cell_type": "code",
   "execution_count": null,
   "metadata": {},
   "outputs": [],
   "source": []
  }
 ],
 "metadata": {
  "kernelspec": {
   "display_name": "Python 3",
   "language": "python",
   "name": "python3"
  },
  "language_info": {
   "codemirror_mode": {
    "name": "ipython",
    "version": 3
   },
   "file_extension": ".py",
   "mimetype": "text/x-python",
   "name": "python",
   "nbconvert_exporter": "python",
   "pygments_lexer": "ipython3",
   "version": "3.6.5"
  }
 },
 "nbformat": 4,
 "nbformat_minor": 2
}
